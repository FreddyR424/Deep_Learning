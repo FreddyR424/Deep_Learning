{
  "nbformat": 4,
  "nbformat_minor": 0,
  "metadata": {
    "colab": {
      "provenance": [],
      "collapsed_sections": [],
      "authorship_tag": "ABX9TyMgiGiR4GTuCDmRHUU3lMSZ",
      "include_colab_link": true
    },
    "kernelspec": {
      "name": "python3",
      "display_name": "Python 3"
    },
    "language_info": {
      "name": "python"
    }
  },
  "cells": [
    {
      "cell_type": "markdown",
      "metadata": {
        "id": "view-in-github",
        "colab_type": "text"
      },
      "source": [
        "<a href=\"https://colab.research.google.com/github/FreddyR424/Deep_Learning/blob/master/MNIST_Digit_Classification.ipynb\" target=\"_parent\"><img src=\"https://colab.research.google.com/assets/colab-badge.svg\" alt=\"Open In Colab\"/></a>"
      ]
    },
    {
      "cell_type": "markdown",
      "source": [
        "# **MNIST Handwritten Digit Classification using a CNN**"
      ],
      "metadata": {
        "id": "YrebDdzdiqPT"
      }
    },
    {
      "cell_type": "markdown",
      "source": [
        "## **Dataset Intro**\n",
        "- This dataset consists of 60,000 grayscale images, which are small 28x28 pixel images.\n",
        "These are images of handwritten digits from 0 to 9.\n",
        "- The task is to correctly classify the image of a handwritten digit into the right number, that is - one of the 10 numbers from 0 to 9.\n",
        "- These numbers are mutually exclusive choices and we have over two choices in number, and hence this represents a multi-class classification problem in supervised learning.\n",
        "- MNIST has been an important and widely-used dataset in machine learning and computer vision. It is sometimes called the \"Hello World\" of computer vision, and is one of the first image datasets that all deep learning based computer vision practitioners learn to work with. A great amount of research have been carried out to outperform the existing state-of-the-art and achieve the best possible accuracy in classifying the images in MNIST.\n",
        "It is hence a benchmark of sorts, to test the latest deep learning architectures in the field of computer vision.\n",
        "- More importantly for us, MNIST is a dataset where Convolutional Neural Network (CNN) based approaches have shown excellent performance, and that is what we will try to implement as part of this case study."
      ],
      "metadata": {
        "id": "PlISHOuImVM3"
      }
    },
    {
      "cell_type": "markdown",
      "source": [
        "## **Imports**"
      ],
      "metadata": {
        "id": "qxUr9BrPm1T6"
      }
    },
    {
      "cell_type": "code",
      "execution_count": 2,
      "metadata": {
        "id": "UVVBAV3BipsS"
      },
      "outputs": [],
      "source": [
        "import numpy as np\n",
        "import matplotlib.pyplot as plt\n",
        "import seaborn as sns\n",
        "import math\n",
        "import tensorflow as tf\n",
        "from tensorflow.keras.models import Sequential\n",
        "from tensorflow.keras.layers import Dense, Dropout, Flatten, Conv2D, MaxPooling2D, BatchNormalization, Activation, LeakyReLU\n",
        "from tensorflow.keras.optimizers import Adam,SGD\n",
        "import warnings\n",
        "warnings.filterwarnings(\"ignore\")"
      ]
    },
    {
      "cell_type": "markdown",
      "source": [
        "## **Loading the Dataset**"
      ],
      "metadata": {
        "id": "zyG2V_xUnCVs"
      }
    },
    {
      "cell_type": "code",
      "source": [
        "from tensorflow.keras.datasets import mnist\n",
        "(X_train, y_train), (X_test, y_test) = mnist.load_data()"
      ],
      "metadata": {
        "colab": {
          "base_uri": "https://localhost:8080/"
        },
        "id": "z_-n51ctm-CK",
        "outputId": "3d486fd4-f294-439b-c3de-6fe259bf11a7"
      },
      "execution_count": 3,
      "outputs": [
        {
          "output_type": "stream",
          "name": "stdout",
          "text": [
            "Downloading data from https://storage.googleapis.com/tensorflow/tf-keras-datasets/mnist.npz\n",
            "11490434/11490434 [==============================] - 0s 0us/step\n"
          ]
        }
      ]
    },
    {
      "cell_type": "code",
      "source": [
        "X_train.shape"
      ],
      "metadata": {
        "colab": {
          "base_uri": "https://localhost:8080/"
        },
        "id": "GqAG3MHUnJcQ",
        "outputId": "90e65a07-7013-4eba-b0d7-a869e4ab5e0c"
      },
      "execution_count": 4,
      "outputs": [
        {
          "output_type": "execute_result",
          "data": {
            "text/plain": [
              "(60000, 28, 28)"
            ]
          },
          "metadata": {},
          "execution_count": 4
        }
      ]
    },
    {
      "cell_type": "markdown",
      "source": [
        "- The first dimension 60000 denotes the number of images in the training data, and each image is stacked on top of the other, making it a 3-dimensional Numpy array.\n",
        "- The second and third dimensions 28, 28 denote the number of pixels along the height and width of the 2-dimensional image."
      ],
      "metadata": {
        "id": "XxH7b2lhnOAt"
      }
    },
    {
      "cell_type": "code",
      "source": [
        "X_train[0]"
      ],
      "metadata": {
        "colab": {
          "base_uri": "https://localhost:8080/"
        },
        "id": "8DSrTIbbnLIK",
        "outputId": "9ac357b8-fd85-4f9d-9d2b-c4c66ac1f6fd"
      },
      "execution_count": 5,
      "outputs": [
        {
          "output_type": "execute_result",
          "data": {
            "text/plain": [
              "array([[  0,   0,   0,   0,   0,   0,   0,   0,   0,   0,   0,   0,   0,\n",
              "          0,   0,   0,   0,   0,   0,   0,   0,   0,   0,   0,   0,   0,\n",
              "          0,   0],\n",
              "       [  0,   0,   0,   0,   0,   0,   0,   0,   0,   0,   0,   0,   0,\n",
              "          0,   0,   0,   0,   0,   0,   0,   0,   0,   0,   0,   0,   0,\n",
              "          0,   0],\n",
              "       [  0,   0,   0,   0,   0,   0,   0,   0,   0,   0,   0,   0,   0,\n",
              "          0,   0,   0,   0,   0,   0,   0,   0,   0,   0,   0,   0,   0,\n",
              "          0,   0],\n",
              "       [  0,   0,   0,   0,   0,   0,   0,   0,   0,   0,   0,   0,   0,\n",
              "          0,   0,   0,   0,   0,   0,   0,   0,   0,   0,   0,   0,   0,\n",
              "          0,   0],\n",
              "       [  0,   0,   0,   0,   0,   0,   0,   0,   0,   0,   0,   0,   0,\n",
              "          0,   0,   0,   0,   0,   0,   0,   0,   0,   0,   0,   0,   0,\n",
              "          0,   0],\n",
              "       [  0,   0,   0,   0,   0,   0,   0,   0,   0,   0,   0,   0,   3,\n",
              "         18,  18,  18, 126, 136, 175,  26, 166, 255, 247, 127,   0,   0,\n",
              "          0,   0],\n",
              "       [  0,   0,   0,   0,   0,   0,   0,   0,  30,  36,  94, 154, 170,\n",
              "        253, 253, 253, 253, 253, 225, 172, 253, 242, 195,  64,   0,   0,\n",
              "          0,   0],\n",
              "       [  0,   0,   0,   0,   0,   0,   0,  49, 238, 253, 253, 253, 253,\n",
              "        253, 253, 253, 253, 251,  93,  82,  82,  56,  39,   0,   0,   0,\n",
              "          0,   0],\n",
              "       [  0,   0,   0,   0,   0,   0,   0,  18, 219, 253, 253, 253, 253,\n",
              "        253, 198, 182, 247, 241,   0,   0,   0,   0,   0,   0,   0,   0,\n",
              "          0,   0],\n",
              "       [  0,   0,   0,   0,   0,   0,   0,   0,  80, 156, 107, 253, 253,\n",
              "        205,  11,   0,  43, 154,   0,   0,   0,   0,   0,   0,   0,   0,\n",
              "          0,   0],\n",
              "       [  0,   0,   0,   0,   0,   0,   0,   0,   0,  14,   1, 154, 253,\n",
              "         90,   0,   0,   0,   0,   0,   0,   0,   0,   0,   0,   0,   0,\n",
              "          0,   0],\n",
              "       [  0,   0,   0,   0,   0,   0,   0,   0,   0,   0,   0, 139, 253,\n",
              "        190,   2,   0,   0,   0,   0,   0,   0,   0,   0,   0,   0,   0,\n",
              "          0,   0],\n",
              "       [  0,   0,   0,   0,   0,   0,   0,   0,   0,   0,   0,  11, 190,\n",
              "        253,  70,   0,   0,   0,   0,   0,   0,   0,   0,   0,   0,   0,\n",
              "          0,   0],\n",
              "       [  0,   0,   0,   0,   0,   0,   0,   0,   0,   0,   0,   0,  35,\n",
              "        241, 225, 160, 108,   1,   0,   0,   0,   0,   0,   0,   0,   0,\n",
              "          0,   0],\n",
              "       [  0,   0,   0,   0,   0,   0,   0,   0,   0,   0,   0,   0,   0,\n",
              "         81, 240, 253, 253, 119,  25,   0,   0,   0,   0,   0,   0,   0,\n",
              "          0,   0],\n",
              "       [  0,   0,   0,   0,   0,   0,   0,   0,   0,   0,   0,   0,   0,\n",
              "          0,  45, 186, 253, 253, 150,  27,   0,   0,   0,   0,   0,   0,\n",
              "          0,   0],\n",
              "       [  0,   0,   0,   0,   0,   0,   0,   0,   0,   0,   0,   0,   0,\n",
              "          0,   0,  16,  93, 252, 253, 187,   0,   0,   0,   0,   0,   0,\n",
              "          0,   0],\n",
              "       [  0,   0,   0,   0,   0,   0,   0,   0,   0,   0,   0,   0,   0,\n",
              "          0,   0,   0,   0, 249, 253, 249,  64,   0,   0,   0,   0,   0,\n",
              "          0,   0],\n",
              "       [  0,   0,   0,   0,   0,   0,   0,   0,   0,   0,   0,   0,   0,\n",
              "          0,  46, 130, 183, 253, 253, 207,   2,   0,   0,   0,   0,   0,\n",
              "          0,   0],\n",
              "       [  0,   0,   0,   0,   0,   0,   0,   0,   0,   0,   0,   0,  39,\n",
              "        148, 229, 253, 253, 253, 250, 182,   0,   0,   0,   0,   0,   0,\n",
              "          0,   0],\n",
              "       [  0,   0,   0,   0,   0,   0,   0,   0,   0,   0,  24, 114, 221,\n",
              "        253, 253, 253, 253, 201,  78,   0,   0,   0,   0,   0,   0,   0,\n",
              "          0,   0],\n",
              "       [  0,   0,   0,   0,   0,   0,   0,   0,  23,  66, 213, 253, 253,\n",
              "        253, 253, 198,  81,   2,   0,   0,   0,   0,   0,   0,   0,   0,\n",
              "          0,   0],\n",
              "       [  0,   0,   0,   0,   0,   0,  18, 171, 219, 253, 253, 253, 253,\n",
              "        195,  80,   9,   0,   0,   0,   0,   0,   0,   0,   0,   0,   0,\n",
              "          0,   0],\n",
              "       [  0,   0,   0,   0,  55, 172, 226, 253, 253, 253, 253, 244, 133,\n",
              "         11,   0,   0,   0,   0,   0,   0,   0,   0,   0,   0,   0,   0,\n",
              "          0,   0],\n",
              "       [  0,   0,   0,   0, 136, 253, 253, 253, 212, 135, 132,  16,   0,\n",
              "          0,   0,   0,   0,   0,   0,   0,   0,   0,   0,   0,   0,   0,\n",
              "          0,   0],\n",
              "       [  0,   0,   0,   0,   0,   0,   0,   0,   0,   0,   0,   0,   0,\n",
              "          0,   0,   0,   0,   0,   0,   0,   0,   0,   0,   0,   0,   0,\n",
              "          0,   0],\n",
              "       [  0,   0,   0,   0,   0,   0,   0,   0,   0,   0,   0,   0,   0,\n",
              "          0,   0,   0,   0,   0,   0,   0,   0,   0,   0,   0,   0,   0,\n",
              "          0,   0],\n",
              "       [  0,   0,   0,   0,   0,   0,   0,   0,   0,   0,   0,   0,   0,\n",
              "          0,   0,   0,   0,   0,   0,   0,   0,   0,   0,   0,   0,   0,\n",
              "          0,   0]], dtype=uint8)"
            ]
          },
          "metadata": {},
          "execution_count": 5
        }
      ]
    },
    {
      "cell_type": "code",
      "source": [
        "y_train[0]"
      ],
      "metadata": {
        "colab": {
          "base_uri": "https://localhost:8080/"
        },
        "id": "_rYDdTaknRA3",
        "outputId": "c507682a-3d3f-46ac-c7f2-3309916e47b3"
      },
      "execution_count": 6,
      "outputs": [
        {
          "output_type": "execute_result",
          "data": {
            "text/plain": [
              "5"
            ]
          },
          "metadata": {},
          "execution_count": 6
        }
      ]
    },
    {
      "cell_type": "markdown",
      "source": [
        "- The target labels are numerical digits between 0 to 9."
      ],
      "metadata": {
        "id": "-6bgGqE8Btfh"
      }
    },
    {
      "cell_type": "code",
      "source": [
        "X_test.shape"
      ],
      "metadata": {
        "id": "iXyZ-ayzpkHL",
        "colab": {
          "base_uri": "https://localhost:8080/"
        },
        "outputId": "bb58bab5-831f-468c-d177-afec5ad88604"
      },
      "execution_count": 7,
      "outputs": [
        {
          "output_type": "execute_result",
          "data": {
            "text/plain": [
              "(10000, 28, 28)"
            ]
          },
          "metadata": {},
          "execution_count": 7
        }
      ]
    },
    {
      "cell_type": "markdown",
      "source": [
        "- The test dataset has 10,000 images. Each image, as before, is a 28x28 square image."
      ],
      "metadata": {
        "id": "JFohY2cXB4_g"
      }
    },
    {
      "cell_type": "markdown",
      "source": [
        "## **Data Visualization**\n",
        "### **Converting the Numpy arrays to images and visualizing a few random images**"
      ],
      "metadata": {
        "id": "NAQDIxjdB8fI"
      }
    },
    {
      "cell_type": "code",
      "source": [
        "num_classes = 10\n",
        "categories = np.unique(y_train)\n",
        "rows = 3\n",
        "cols = 4\n",
        "fig = plt.figure(figsize = (10, 8))\n",
        "for i in range(cols):\n",
        "  for j in range(rows):\n",
        "    random_index = np.random.randint(0, len(y_train))\n",
        "    ax = fig.add_subplot(rows, cols, i * rows + j + 1)\n",
        "    ax.imshow(X_train[random_index, :], cmap = plt.get_cmap('gray'))\n",
        "    ax.set_title(categories[y_train[random_index]])\n",
        "plt.show()"
      ],
      "metadata": {
        "colab": {
          "base_uri": "https://localhost:8080/",
          "height": 492
        },
        "id": "mXVRTlWYBweU",
        "outputId": "5da036e7-993e-4c81-b0d3-42bdfe05c40b"
      },
      "execution_count": 8,
      "outputs": [
        {
          "output_type": "display_data",
          "data": {
            "text/plain": [
              "<Figure size 720x576 with 12 Axes>"
            ],
            "image/png": "[encoded data removed]"
          },
          "metadata": {
            "needs_background": "light"
          }
        }
      ]
    },
    {
      "cell_type": "code",
      "source": [
        "# Plot distribution of each category\n",
        "count_plot = sns.countplot(y_train)"
      ],
      "metadata": {
        "colab": {
          "base_uri": "https://localhost:8080/",
          "height": 267
        },
        "id": "6puSxKJ7K9LM",
        "outputId": "d94d9c1b-2805-4fa7-cf7e-e30f8c3854d3"
      },
      "execution_count": 12,
      "outputs": [
        {
          "output_type": "display_data",
          "data": {
            "text/plain": [
              "<Figure size 432x288 with 1 Axes>"
            ],
            "image/png": "[encoded data removed]"
          },
          "metadata": {
            "needs_background": "light"
          }
        }
      ]
    },
    {
      "cell_type": "markdown",
      "source": [
        "- the dataset appears to be quite balanced, with each category having approximately the same number of images.\n",
        "- Accuracy should be a good evaluation metric for the model performance in this case study."
      ],
      "metadata": {
        "id": "BpAMJSK8LGAx"
      }
    },
    {
      "cell_type": "markdown",
      "source": [
        "## **Data Preparation**\n",
        "- reshape the dataset to have a single channel and we also normalize the feature inputs.\n",
        "- Normalization"
      ],
      "metadata": {
        "id": "FKa1of50LJrt"
      }
    },
    {
      "cell_type": "markdown",
      "source": [
        "- reshape the arrays to just have a single channel."
      ],
      "metadata": {
        "id": "yGKY9EwuMXns"
      }
    },
    {
      "cell_type": "code",
      "source": [
        "# Reshape dataset for single channel\n",
        "X_train = X_train.reshape((X_train.shape[0], 28, 28, 1))\n",
        "X_test = X_test.reshape((X_test.shape[0], 28, 28, 1))"
      ],
      "metadata": {
        "id": "WRG3egmWLCk7"
      },
      "execution_count": 13,
      "outputs": []
    },
    {
      "cell_type": "markdown",
      "source": [
        "- divide all the pixel values by 255 to standardize the images to have values between 0-1."
      ],
      "metadata": {
        "id": "g2xIIGIZOHwB"
      }
    },
    {
      "cell_type": "code",
      "source": [
        "# Normalizing Image Pixels\n",
        "X_train_normalized = X_train.astype('float32')/255.0\n",
        "X_test_normalized = X_test.astype('float32')/255.0"
      ],
      "metadata": {
        "id": "mAgNswNcMsDY"
      },
      "execution_count": 14,
      "outputs": []
    },
    {
      "cell_type": "markdown",
      "source": [
        "- the output layer should have 10 neurons which will provide us with the probabilities of the input image belonging to each of those 10 classes."
      ],
      "metadata": {
        "id": "OlMyxTU3OsUl"
      }
    },
    {
      "cell_type": "code",
      "source": [
        "# Creating one-hot encoded representation of target labels\n",
        "y_train_encoded = tf.keras.utils.to_categorical(y_train)\n",
        "y_test_encoded = tf.keras.utils.to_categorical(y_test)"
      ],
      "metadata": {
        "id": "2c2Hhx-YOoUk"
      },
      "execution_count": 15,
      "outputs": []
    },
    {
      "cell_type": "markdown",
      "source": [
        "## **Model Building - Artificial Neural Network (ANN)**\n",
        "#### **Defining an Artificial Neural Network (ANN) Model**\n",
        "- will be created sequentially, by adding the layers one after another."
      ],
      "metadata": {
        "id": "08n4pphHPFoX"
      }
    },
    {
      "cell_type": "code",
      "source": [
        "# fixing seed for radom number generators\n",
        "import random\n",
        "np.random.seed(42)\n",
        "random.seed(42)\n",
        "tf.random.set_seed(42)"
      ],
      "metadata": {
        "id": "Y-YDPihHPELp"
      },
      "execution_count": 16,
      "outputs": []
    },
    {
      "cell_type": "markdown",
      "source": [
        "**Building sequential ANN model**"
      ],
      "metadata": {
        "id": "HznAFbKVQ3n8"
      }
    },
    {
      "cell_type": "code",
      "source": [
        "# Intializing a sequential model\n",
        "ann_model = Sequential()\n",
        "\n",
        "# Flatten the input to add dense convolutional layers on top of it\n",
        "ann_model.add(Flatten(input_shape = (28, 28)))\n",
        "\n",
        "# Adding a sequential layer with 100 neurons\n",
        "ann_model.add(Dense(100, activation = 'relu'))\n",
        "\n",
        "# Adding the output layer with 10 neurons and activation functions as softmax since this is a multi-class classification problem  \n",
        "ann_model.add(Dense(10, activation = 'softmax'))\n",
        "\n",
        "# using SGD Optimizer\n",
        "opt = SGD(learning_rate = 0.01, momentum = 0.9)\n",
        "\n",
        "# Compile Model\n",
        "ann_model.compile(optimizer = opt,\n",
        "                  loss = 'categorical_crossentropy',\n",
        "                  metrics = ['accuracy'])\n",
        "\n",
        "# Generating summary of model\n",
        "ann_model.summary()"
      ],
      "metadata": {
        "colab": {
          "base_uri": "https://localhost:8080/"
        },
        "id": "EkYcDIggQ3B_",
        "outputId": "ecc92e8f-cd34-40f9-eb80-e5b857880fdc"
      },
      "execution_count": 17,
      "outputs": [
        {
          "output_type": "stream",
          "name": "stdout",
          "text": [
            "Model: \"sequential\"\n",
            "_________________________________________________________________\n",
            " Layer (type)                Output Shape              Param #   \n",
            "=================================================================\n",
            " flatten (Flatten)           (None, 784)               0         \n",
            "                                                                 \n",
            " dense (Dense)               (None, 100)               78500     \n",
            "                                                                 \n",
            " dense_1 (Dense)             (None, 10)                1010      \n",
            "                                                                 \n",
            "=================================================================\n",
            "Total params: 79,510\n",
            "Trainable params: 79,510\n",
            "Non-trainable params: 0\n",
            "_________________________________________________________________\n"
          ]
        }
      ]
    },
    {
      "cell_type": "markdown",
      "source": [
        "### **Understanding parameters of each layer:**\n",
        "**Flatten Layer:**\n",
        "- the input shape to the layer is (28,28). It does not have any parameters, so the number of parameters is 0.\n",
        "\n",
        "**Fully Connected Dense Layer:**\n",
        "- Number of neurons: 100\n",
        "- Number of parameters: (784x100)+(1x100): 78400+100: 78500\n",
        "\n",
        "**Output Layer:**\n",
        "- Number of neurons: 10\n",
        "- Number of parameters: (10x100)+(1x10) = 1010"
      ],
      "metadata": {
        "id": "IwwLj1d6WU7s"
      }
    },
    {
      "cell_type": "markdown",
      "source": [
        "### **Fitting model on the train data**"
      ],
      "metadata": {
        "id": "K9nbiQYZWzwG"
      }
    },
    {
      "cell_type": "code",
      "source": [
        "history = ann_model.fit(\n",
        "    X_train_normalized, y_train_encoded,\n",
        "    epochs = 15,\n",
        "    validation_split = 0.1,\n",
        "    shuffle = True,\n",
        "    batch_size = 64,\n",
        "    verbose = 2\n",
        ")"
      ],
      "metadata": {
        "colab": {
          "base_uri": "https://localhost:8080/"
        },
        "id": "pzUMZ9kgUWR3",
        "outputId": "73167f54-4836-4c2b-eeed-ac1219306ace"
      },
      "execution_count": 18,
      "outputs": [
        {
          "output_type": "stream",
          "name": "stdout",
          "text": [
            "Epoch 1/15\n",
            "844/844 - 5s - loss: 0.4176 - accuracy: 0.8819 - val_loss: 0.2073 - val_accuracy: 0.9413 - 5s/epoch - 6ms/step\n",
            "Epoch 2/15\n",
            "844/844 - 3s - loss: 0.2185 - accuracy: 0.9378 - val_loss: 0.1574 - val_accuracy: 0.9577 - 3s/epoch - 4ms/step\n",
            "Epoch 3/15\n",
            "844/844 - 4s - loss: 0.1653 - accuracy: 0.9529 - val_loss: 0.1271 - val_accuracy: 0.9653 - 4s/epoch - 4ms/step\n",
            "Epoch 4/15\n",
            "844/844 - 3s - loss: 0.1351 - accuracy: 0.9621 - val_loss: 0.1140 - val_accuracy: 0.9670 - 3s/epoch - 4ms/step\n",
            "Epoch 5/15\n",
            "844/844 - 4s - loss: 0.1147 - accuracy: 0.9671 - val_loss: 0.1032 - val_accuracy: 0.9702 - 4s/epoch - 4ms/step\n",
            "Epoch 6/15\n",
            "844/844 - 3s - loss: 0.0996 - accuracy: 0.9721 - val_loss: 0.0939 - val_accuracy: 0.9727 - 3s/epoch - 4ms/step\n",
            "Epoch 7/15\n",
            "844/844 - 3s - loss: 0.0880 - accuracy: 0.9750 - val_loss: 0.0877 - val_accuracy: 0.9765 - 3s/epoch - 4ms/step\n",
            "Epoch 8/15\n",
            "844/844 - 3s - loss: 0.0784 - accuracy: 0.9775 - val_loss: 0.0859 - val_accuracy: 0.9768 - 3s/epoch - 3ms/step\n",
            "Epoch 9/15\n",
            "844/844 - 3s - loss: 0.0705 - accuracy: 0.9802 - val_loss: 0.0836 - val_accuracy: 0.9760 - 3s/epoch - 4ms/step\n",
            "Epoch 10/15\n",
            "844/844 - 3s - loss: 0.0648 - accuracy: 0.9815 - val_loss: 0.0802 - val_accuracy: 0.9765 - 3s/epoch - 3ms/step\n",
            "Epoch 11/15\n",
            "844/844 - 3s - loss: 0.0585 - accuracy: 0.9839 - val_loss: 0.0759 - val_accuracy: 0.9783 - 3s/epoch - 4ms/step\n",
            "Epoch 12/15\n",
            "844/844 - 3s - loss: 0.0541 - accuracy: 0.9850 - val_loss: 0.0782 - val_accuracy: 0.9783 - 3s/epoch - 4ms/step\n",
            "Epoch 13/15\n",
            "844/844 - 3s - loss: 0.0497 - accuracy: 0.9867 - val_loss: 0.0748 - val_accuracy: 0.9782 - 3s/epoch - 4ms/step\n",
            "Epoch 14/15\n",
            "844/844 - 3s - loss: 0.0458 - accuracy: 0.9876 - val_loss: 0.0740 - val_accuracy: 0.9787 - 3s/epoch - 4ms/step\n",
            "Epoch 15/15\n",
            "844/844 - 3s - loss: 0.0422 - accuracy: 0.9888 - val_loss: 0.0745 - val_accuracy: 0.9790 - 3s/epoch - 4ms/step\n"
          ]
        }
      ]
    },
    {
      "cell_type": "markdown",
      "source": [
        "## **Model Evaluation**"
      ],
      "metadata": {
        "id": "EsSJealJYb-G"
      }
    },
    {
      "cell_type": "code",
      "source": [
        "plt.plot(history.history['accuracy'])\n",
        "plt.plot(history.history['val_accuracy'])\n",
        "plt.title('Model Accuracy')\n",
        "plt.ylabel('Accuracy')\n",
        "plt.xlabel('Epoch')\n",
        "plt.legend(['Train', 'Validation'], loc = 'upper left')\n",
        "plt.show()"
      ],
      "metadata": {
        "colab": {
          "base_uri": "https://localhost:8080/",
          "height": 295
        },
        "id": "fIhzydSYXNEG",
        "outputId": "187fd933-c12d-4739-cd5a-f7bfa55d0e66"
      },
      "execution_count": 19,
      "outputs": [
        {
          "output_type": "display_data",
          "data": {
            "text/plain": [
              "<Figure size 432x288 with 1 Axes>"
            ],
            "image/png": "[encoded data removed]"
          },
          "metadata": {
            "needs_background": "light"
          }
        }
      ]
    },
    {
      "cell_type": "markdown",
      "source": [
        "- the model has perfomed well on the train and validation data, with a validation accuracy of 97%."
      ],
      "metadata": {
        "id": "SFrTavLFbUQp"
      }
    },
    {
      "cell_type": "markdown",
      "source": [
        "## **Evaluating the model on the test data**"
      ],
      "metadata": {
        "id": "ZcjS0Y9_bWHs"
      }
    },
    {
      "cell_type": "code",
      "source": [
        "accuracy = ann_model.evaluate(X_test_normalized, y_test_encoded, verbose = 2)"
      ],
      "metadata": {
        "colab": {
          "base_uri": "https://localhost:8080/"
        },
        "id": "L7jMS0r5axAr",
        "outputId": "e109e019-b62b-48d1-f571-b4be3497b473"
      },
      "execution_count": 20,
      "outputs": [
        {
          "output_type": "stream",
          "name": "stdout",
          "text": [
            "313/313 - 1s - loss: 0.0773 - accuracy: 0.9768 - 1s/epoch - 4ms/step\n"
          ]
        }
      ]
    },
    {
      "cell_type": "markdown",
      "source": [
        "## **Generating Predictions using the test data**"
      ],
      "metadata": {
        "id": "vq1hrsOEbk9h"
      }
    },
    {
      "cell_type": "code",
      "source": [
        "# Output as probabilities for each category\n",
        "y_pred = ann_model.predict(X_test_normalized)"
      ],
      "metadata": {
        "colab": {
          "base_uri": "https://localhost:8080/"
        },
        "id": "skPhAmTlbic8",
        "outputId": "9b297d1f-6a04-4a60-ef54-82f7640cff20"
      },
      "execution_count": 21,
      "outputs": [
        {
          "output_type": "stream",
          "name": "stdout",
          "text": [
            "313/313 [==============================] - 1s 4ms/step\n"
          ]
        }
      ]
    },
    {
      "cell_type": "markdown",
      "source": [
        "## **Plotting Confusion Matrix**\n",
        "- The Confusion matrix expects the input to be of categorical values. But the y_test_encoded is an encoded value, and y_pred has probablities. So we need to get the categorical values back from the encoded values.\n",
        "- We will use the argmax() function to obtain the maximum value over each category on both y_test_encoded and y_pred and obtain their respective classes."
      ],
      "metadata": {
        "id": "DVPzIlreb1RJ"
      }
    },
    {
      "cell_type": "code",
      "source": [
        "# Obtaining the categorical values from y_test_encoded and y_pred\n",
        "y_pred_arg = np.argmax(y_pred, axis = 1)\n",
        "y_test_arg = np.argmax(y_test_encoded, axis = 1)\n",
        "\n",
        "# Plotting the Confusion Matrix using confusion matrix()\n",
        "confusion_matrix = tf.math.confusion_matrix(y_test_arg, y_pred_arg)\n",
        "f, ax = plt.subplots(figsize= (10, 8))\n",
        "sns.heatmap(\n",
        "    confusion_matrix,\n",
        "    annot= True,\n",
        "    linewidths= .4,\n",
        "    fmt= \"d\",\n",
        "    square= True,\n",
        "    ax= ax\n",
        ")\n",
        "plt.show()"
      ],
      "metadata": {
        "colab": {
          "base_uri": "https://localhost:8080/",
          "height": 483
        },
        "id": "_huX0f-fbzmH",
        "outputId": "063d7ba2-b4b9-456b-ca2e-cb76bf8fef01"
      },
      "execution_count": 22,
      "outputs": [
        {
          "output_type": "display_data",
          "data": {
            "text/plain": [
              "<Figure size 720x576 with 2 Axes>"
            ],
            "image/png": "[encoded data removed]"
          },
          "metadata": {
            "needs_background": "light"
          }
        }
      ]
    },
    {
      "cell_type": "markdown",
      "source": [
        "- most of the classes are predicted correctly, and the misclassification occurs mostly with the digit 4 which is sometimes confused with digit 9, and digit 5 which is sometimes confused with digit 3."
      ],
      "metadata": {
        "id": "CXf5Jcy6c3Nb"
      }
    },
    {
      "cell_type": "markdown",
      "source": [
        "## **Model Building - Convolutional Neural Network (CNN)**\n",
        "- create a CNN model sequentially, where we will be adding the layers one after another."
      ],
      "metadata": {
        "id": "7UjxsfBnc5E7"
      }
    },
    {
      "cell_type": "code",
      "source": [
        "# clear backend\n",
        "from tensorflow.keras import backend\n",
        "backend.clear_session()"
      ],
      "metadata": {
        "id": "YICV0TT2czdm"
      },
      "execution_count": 23,
      "outputs": []
    },
    {
      "cell_type": "code",
      "source": [
        "# Fixing the seed for random number generators\n",
        "import random\n",
        "np.random.seed(42)\n",
        "random.seed(42)\n",
        "tf.random.set_seed(42)"
      ],
      "metadata": {
        "id": "uz_QiQdgdI0I"
      },
      "execution_count": 24,
      "outputs": []
    },
    {
      "cell_type": "markdown",
      "source": [
        "### **Building CNN Model**\n",
        "**The model has 2 main parts:**\n",
        "\n",
        "- 1. The Feature Extraction layers which are comprised of convolutional and pooling layers.\n",
        "- 2. The Fully Connected classification layers for prediction."
      ],
      "metadata": {
        "id": "fD6qIvlZdLzX"
      }
    },
    {
      "cell_type": "markdown",
      "source": [
        "### **Model Flow:**\n",
        "- start with a sequential Conv2D layer with 64 filters of 3x3 filter with the ReLU activation function. This will take as input an image of size (28x28x1).\n",
        "- padding in order to keep the output shape the same as that of the input shape. Hence, the hyperparameter padding = 'same'.\n",
        "- 2 more pairs of Conv2D and Max Pooling layers, having 32 filters with a 3x3 Kernel Size and a pooling size of (2,2).\n",
        "- flatten out the output from this pooling layer, and use a dense layer over that.\n",
        "- dense layer of 100 neurons (the same as the ANN)\n",
        "- output layer with 10 neurons, as we have 10 output classes in this multi-class classification problem."
      ],
      "metadata": {
        "id": "_kbfLakOdWLS"
      }
    },
    {
      "cell_type": "code",
      "source": [
        "# Intializing a sequential model\n",
        "model = Sequential()\n",
        "\n",
        "# Adding first conv layer with 64 filters and kernel size 3x3 , padding 'same' provides the output size same as the input size\n",
        "model.add(Conv2D(64, (3, 3), activation = 'relu', padding = \"same\", input_shape = (28, 28, 1)))\n",
        "\n",
        "# Adding max pooling to reduce the size of output of first conv layer\n",
        "model.add(MaxPooling2D((2, 2), padding = \"same\"))\n",
        "model.add(Conv2D(32, (3, 3), activation = 'relu', padding = \"same\"))\n",
        "model.add(MaxPooling2D((2, 2), padding = \"same\"))\n",
        "model.add(Conv2D(32, (3, 3), activation = 'relu', padding = \"same\"))\n",
        "model.add(MaxPooling2D((2, 2), padding = \"same\"))\n",
        "\n",
        "# flattening the output of the conv layer after max pooling to make it ready for creating dense connections\n",
        "model.add(Flatten())\n",
        "\n",
        "# Adding a fully connected dense layer with 100 neurons \n",
        "model.add(Dense(100, activation = 'relu'))\n",
        "\n",
        "# Adding the output layer with 10 neurons and activation functions as softmax since this is a multi-class classification problem  \n",
        "model.add(Dense(10, activation = 'softmax'))\n",
        "\n",
        "# using SGD optimizer\n",
        "opt = SGD(learning_rate = 0.01, momentum = 0.9)\n",
        "\n",
        "# compile model\n",
        "model.compile(optimizer=opt, loss='categorical_crossentropy', metrics=['accuracy'])\n",
        "\n",
        "# generate summary of model\n",
        "model.summary()"
      ],
      "metadata": {
        "colab": {
          "base_uri": "https://localhost:8080/"
        },
        "id": "ezX64NQydKV3",
        "outputId": "48c7ccf4-ec6a-4518-ed7c-23ad1923a677"
      },
      "execution_count": 25,
      "outputs": [
        {
          "output_type": "stream",
          "name": "stdout",
          "text": [
            "Model: \"sequential\"\n",
            "_________________________________________________________________\n",
            " Layer (type)                Output Shape              Param #   \n",
            "=================================================================\n",
            " conv2d (Conv2D)             (None, 28, 28, 64)        640       \n",
            "                                                                 \n",
            " max_pooling2d (MaxPooling2D  (None, 14, 14, 64)       0         \n",
            " )                                                               \n",
            "                                                                 \n",
            " conv2d_1 (Conv2D)           (None, 14, 14, 32)        18464     \n",
            "                                                                 \n",
            " max_pooling2d_1 (MaxPooling  (None, 7, 7, 32)         0         \n",
            " 2D)                                                             \n",
            "                                                                 \n",
            " conv2d_2 (Conv2D)           (None, 7, 7, 32)          9248      \n",
            "                                                                 \n",
            " max_pooling2d_2 (MaxPooling  (None, 4, 4, 32)         0         \n",
            " 2D)                                                             \n",
            "                                                                 \n",
            " flatten (Flatten)           (None, 512)               0         \n",
            "                                                                 \n",
            " dense (Dense)               (None, 100)               51300     \n",
            "                                                                 \n",
            " dense_1 (Dense)             (None, 10)                1010      \n",
            "                                                                 \n",
            "=================================================================\n",
            "Total params: 80,662\n",
            "Trainable params: 80,662\n",
            "Non-trainable params: 0\n",
            "_________________________________________________________________\n"
          ]
        }
      ]
    },
    {
      "cell_type": "markdown",
      "source": [
        "### **Parameters of CNN Layers:**\n",
        "**First Conv2D Layer:**\n",
        "- The input shape to the Conv2D layer: (28,28,1)\n",
        "- The Size of the Filter: 3x3\n",
        "- The Number of Filters: 64\n",
        "- The Number of parameters: (3x3x1+1)x64 = 640\n",
        "\n",
        "**Max Pooling Layer:**\n",
        "- Pooling has no trainable parameters, so the number of parameters: 0\n",
        "\n",
        "**Flatten:**\n",
        "- does not have any trainable parameters, so the number of parameters: 0\n",
        "\n",
        "**Fully Connected Dense Layer:**\n",
        "- Number of neurons: 100\n",
        "- Number of parameters: (100x512)+(1x100): 51300\n",
        "\n",
        "**Output Layer:**\n",
        "- Number of neurons: 10\n",
        "- Number of parameters: (10x100)+(1x10)=1010"
      ],
      "metadata": {
        "id": "ZphnjP1wflIU"
      }
    },
    {
      "cell_type": "markdown",
      "source": [
        "## **Fitting the model on the train data**"
      ],
      "metadata": {
        "id": "NtbFR8epgGN9"
      }
    },
    {
      "cell_type": "code",
      "source": [
        "history_1 = model.fit(\n",
        "    X_train_normalized, y_train_encoded,\n",
        "    epochs = 15,\n",
        "    validation_split = 0.1,\n",
        "    shuffle = True,\n",
        "    batch_size = 64,\n",
        "    verbose = 2)"
      ],
      "metadata": {
        "colab": {
          "base_uri": "https://localhost:8080/"
        },
        "id": "SBV0OouGfjSC",
        "outputId": "d0ff5e81-02dc-401e-c173-d7293351837d"
      },
      "execution_count": 27,
      "outputs": [
        {
          "output_type": "stream",
          "name": "stdout",
          "text": [
            "Epoch 1/15\n",
            "844/844 - 115s - loss: 0.1280 - accuracy: 0.9597 - val_loss: 0.0761 - val_accuracy: 0.9757 - 115s/epoch - 136ms/step\n",
            "Epoch 2/15\n",
            "844/844 - 104s - loss: 0.0694 - accuracy: 0.9786 - val_loss: 0.0555 - val_accuracy: 0.9825 - 104s/epoch - 123ms/step\n",
            "Epoch 3/15\n",
            "844/844 - 92s - loss: 0.0503 - accuracy: 0.9842 - val_loss: 0.0413 - val_accuracy: 0.9885 - 92s/epoch - 109ms/step\n",
            "Epoch 4/15\n",
            "844/844 - 91s - loss: 0.0402 - accuracy: 0.9869 - val_loss: 0.0478 - val_accuracy: 0.9872 - 91s/epoch - 108ms/step\n",
            "Epoch 5/15\n",
            "844/844 - 92s - loss: 0.0332 - accuracy: 0.9898 - val_loss: 0.0373 - val_accuracy: 0.9885 - 92s/epoch - 109ms/step\n",
            "Epoch 6/15\n",
            "844/844 - 90s - loss: 0.0283 - accuracy: 0.9908 - val_loss: 0.0389 - val_accuracy: 0.9893 - 90s/epoch - 107ms/step\n",
            "Epoch 7/15\n",
            "844/844 - 90s - loss: 0.0248 - accuracy: 0.9921 - val_loss: 0.0382 - val_accuracy: 0.9893 - 90s/epoch - 106ms/step\n",
            "Epoch 8/15\n",
            "844/844 - 89s - loss: 0.0206 - accuracy: 0.9931 - val_loss: 0.0343 - val_accuracy: 0.9908 - 89s/epoch - 105ms/step\n",
            "Epoch 9/15\n",
            "844/844 - 90s - loss: 0.0170 - accuracy: 0.9948 - val_loss: 0.0385 - val_accuracy: 0.9910 - 90s/epoch - 106ms/step\n",
            "Epoch 10/15\n",
            "844/844 - 87s - loss: 0.0153 - accuracy: 0.9951 - val_loss: 0.0376 - val_accuracy: 0.9905 - 87s/epoch - 104ms/step\n",
            "Epoch 11/15\n",
            "844/844 - 89s - loss: 0.0135 - accuracy: 0.9956 - val_loss: 0.0312 - val_accuracy: 0.9922 - 89s/epoch - 105ms/step\n",
            "Epoch 12/15\n",
            "844/844 - 90s - loss: 0.0122 - accuracy: 0.9959 - val_loss: 0.0346 - val_accuracy: 0.9907 - 90s/epoch - 107ms/step\n",
            "Epoch 13/15\n",
            "844/844 - 89s - loss: 0.0108 - accuracy: 0.9967 - val_loss: 0.0356 - val_accuracy: 0.9915 - 89s/epoch - 105ms/step\n",
            "Epoch 14/15\n",
            "844/844 - 89s - loss: 0.0118 - accuracy: 0.9959 - val_loss: 0.0340 - val_accuracy: 0.9920 - 89s/epoch - 106ms/step\n",
            "Epoch 15/15\n",
            "844/844 - 88s - loss: 0.0075 - accuracy: 0.9976 - val_loss: 0.0358 - val_accuracy: 0.9918 - 88s/epoch - 105ms/step\n"
          ]
        }
      ]
    },
    {
      "cell_type": "markdown",
      "source": [
        "## **Model Evaluation**"
      ],
      "metadata": {
        "id": "3Zg6KxL6gjfD"
      }
    },
    {
      "cell_type": "code",
      "source": [
        "plt.plot(history_1.history['accuracy'])\n",
        "plt.plot(history_1.history['val_accuracy'])\n",
        "plt.title('Model Accuracy')\n",
        "plt.ylabel('Accuracy')\n",
        "plt.xlabel('Epoch')\n",
        "plt.legend(['Train', 'Validation'], loc='upper left')\n",
        "plt.show()"
      ],
      "metadata": {
        "colab": {
          "base_uri": "https://localhost:8080/",
          "height": 295
        },
        "id": "iHWd_QJzgXk5",
        "outputId": "5ea898d6-c2fd-4d96-c2c8-909c5984bfaa"
      },
      "execution_count": 28,
      "outputs": [
        {
          "output_type": "display_data",
          "data": {
            "text/plain": [
              "<Figure size 432x288 with 1 Axes>"
            ],
            "image/png": "[encoded data removed]"
          },
          "metadata": {
            "needs_background": "light"
          }
        }
      ]
    },
    {
      "cell_type": "markdown",
      "source": [
        "- the model has perfomed well on train and validation data with a validation accuracy of 98%."
      ],
      "metadata": {
        "id": "Coz_qZIjgrgG"
      }
    },
    {
      "cell_type": "markdown",
      "source": [
        "## **Evaluating the model on test data**"
      ],
      "metadata": {
        "id": "k-EnvKw1gtzO"
      }
    },
    {
      "cell_type": "code",
      "source": [
        "accuracy = model.evaluate(X_test_normalized, y_test_encoded, verbose=2)"
      ],
      "metadata": {
        "colab": {
          "base_uri": "https://localhost:8080/"
        },
        "id": "ZE1j0l_kgo8J",
        "outputId": "7c5d5ea2-6305-4a98-c4d1-8b8da93c887e"
      },
      "execution_count": 29,
      "outputs": [
        {
          "output_type": "stream",
          "name": "stdout",
          "text": [
            "313/313 - 4s - loss: 0.0325 - accuracy: 0.9904 - 4s/epoch - 13ms/step\n"
          ]
        }
      ]
    },
    {
      "cell_type": "markdown",
      "source": [
        "## **Generating the predictions using test data**"
      ],
      "metadata": {
        "id": "5qJRIACAgyA4"
      }
    },
    {
      "cell_type": "code",
      "source": [
        "y_pred=model.predict(X_test_normalized)\n",
        "y_pred"
      ],
      "metadata": {
        "colab": {
          "base_uri": "https://localhost:8080/"
        },
        "id": "zU3I7LYGgwcj",
        "outputId": "ff4adf09-9254-48c8-cf83-394c9277f0be"
      },
      "execution_count": 30,
      "outputs": [
        {
          "output_type": "stream",
          "name": "stdout",
          "text": [
            "313/313 [==============================] - 5s 15ms/step\n"
          ]
        },
        {
          "output_type": "execute_result",
          "data": {
            "text/plain": [
              "array([[1.2635819e-17, 6.9508413e-13, 7.0289351e-11, ..., 9.9999994e-01,\n",
              "        3.3643340e-15, 1.9003596e-13],\n",
              "       [4.5682871e-11, 8.9567138e-08, 9.9999982e-01, ..., 5.7979004e-11,\n",
              "        1.4481789e-13, 1.3977236e-14],\n",
              "       [4.1098582e-09, 9.9999052e-01, 2.3647928e-07, ..., 7.5529065e-06,\n",
              "        1.3454614e-07, 1.6462693e-07],\n",
              "       ...,\n",
              "       [4.5014693e-19, 1.9299241e-14, 1.6071269e-17, ..., 1.3450980e-11,\n",
              "        2.1571436e-12, 8.3292090e-14],\n",
              "       [7.5447221e-10, 1.6453398e-17, 3.0419391e-16, ..., 8.1716792e-14,\n",
              "        2.2580411e-05, 2.7462219e-14],\n",
              "       [3.8558493e-13, 2.8598309e-14, 3.1838480e-11, ..., 4.5895851e-20,\n",
              "        1.6946284e-12, 1.2125573e-19]], dtype=float32)"
            ]
          },
          "metadata": {},
          "execution_count": 30
        }
      ]
    },
    {
      "cell_type": "markdown",
      "source": [
        "## **Plotting Confusion Matrix**"
      ],
      "metadata": {
        "id": "zjS_p5W7g3G1"
      }
    },
    {
      "cell_type": "code",
      "source": [
        "# Obtaining the categorical values from y_test_encoded and y_pred\n",
        "y_pred_arg=np.argmax(y_pred,axis=1)\n",
        "y_test_arg=np.argmax(y_test_encoded,axis=1)\n",
        "\n",
        "# Plotting the Confusion Matrix using confusion matrix() function which is also predefined tensorflow module\n",
        "confusion_matrix = tf.math.confusion_matrix(y_test_arg,y_pred_arg)\n",
        "f, ax = plt.subplots(figsize=(10, 8))\n",
        "sns.heatmap(\n",
        "    confusion_matrix,\n",
        "    annot=True,\n",
        "    linewidths=.4,\n",
        "    fmt=\"d\",\n",
        "    square=True,\n",
        "    ax=ax\n",
        ")\n",
        "plt.show()"
      ],
      "metadata": {
        "colab": {
          "base_uri": "https://localhost:8080/",
          "height": 483
        },
        "id": "2DZzZuUKg1wc",
        "outputId": "b00263ab-3af8-4da2-97b7-dce726a4e5ad"
      },
      "execution_count": 31,
      "outputs": [
        {
          "output_type": "display_data",
          "data": {
            "text/plain": [
              "<Figure size 720x576 with 2 Axes>"
            ],
            "image/png": "[encoded data removed]"
          },
          "metadata": {
            "needs_background": "light"
          }
        }
      ]
    },
    {
      "cell_type": "markdown",
      "source": [
        "-  most of the classes are predicted correctly.\n",
        "- The misclassification mostly with the the digits 4 and 8, which are confused with digit 9."
      ],
      "metadata": {
        "id": "tcnZV4oChAVA"
      }
    },
    {
      "cell_type": "markdown",
      "source": [
        "## **Comparing the number of parameters in ANNs and CNNs**\n",
        "- The total number of trainable parameters in the ANN were: 79,510.\n",
        "- The total number of trainable parameters in the CNN are: 80,662.\n",
        "- For the ANN model, we had to flatten our input image of size (28,28,1) to (784,1). This was followed by two dense layers with the same number of nodes that we used while building the CNN Model.\n",
        "- Using just 2 dense layers after Flatten() in the ANN model, resulted in nearly the same number of parameters as the whole CNN model, despite the CNN having the added advantage of multiple convolution layers for feature extraction."
      ],
      "metadata": {
        "id": "PEKnmND0hD37"
      }
    },
    {
      "cell_type": "code",
      "source": [],
      "metadata": {
        "id": "xr72_HdXg9-o"
      },
      "execution_count": null,
      "outputs": []
    }
  ]
}