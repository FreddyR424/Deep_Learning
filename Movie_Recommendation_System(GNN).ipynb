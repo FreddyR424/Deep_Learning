{
  "nbformat": 4,
  "nbformat_minor": 0,
  "metadata": {
    "colab": {
      "provenance": [],
      "collapsed_sections": [],
      "authorship_tag": "ABX9TyOoGiicWJ/sbcxrtZDjXyn+",
      "include_colab_link": true
    },
    "kernelspec": {
      "name": "python3",
      "display_name": "Python 3"
    },
    "language_info": {
      "name": "python"
    }
  },
  "cells": [
    {
      "cell_type": "markdown",
      "metadata": {
        "id": "view-in-github",
        "colab_type": "text"
      },
      "source": [
        "<a href=\"https://colab.research.google.com/github/FreddyR424/Deep_Learning/blob/master/Movie_Recommendation_System(GNN).ipynb\" target=\"_parent\"><img src=\"https://colab.research.google.com/assets/colab-badge.svg\" alt=\"Open In Colab\"/></a>"
      ]
    },
    {
      "cell_type": "markdown",
      "source": [
        "# **Movie Recommendation System**\n",
        "### **Using Graph Neural Networks**"
      ],
      "metadata": {
        "id": "V5tbHyPEKzzI"
      }
    },
    {
      "cell_type": "markdown",
      "source": [
        "## **Context**\n",
        "- Building a recommendation system to recommend relevant movies to users based on their historical interactions, this would improve customer satisfaction and hence improve revenue."
      ],
      "metadata": {
        "id": "bZmJlCFHLEJE"
      }
    },
    {
      "cell_type": "markdown",
      "source": [
        "## **Objective**\n",
        "- Building a graph neural network (GNN) to suggest similar movies based on what movies a user has watched."
      ],
      "metadata": {
        "id": "lJe_kQgqLPi3"
      }
    },
    {
      "cell_type": "markdown",
      "source": [
        "## **Dataset**\n",
        "**'ratings' dataset:** \n",
        "- userId\n",
        "- movieId\n",
        "- rating\n",
        "- timestamp\n",
        "\n",
        "**'movies' dataset:**\n",
        "- movieId\n",
        "- title\n",
        "- genres"
      ],
      "metadata": {
        "id": "2RtultC4LWbp"
      }
    },
    {
      "cell_type": "markdown",
      "source": [
        "## **Imports**"
      ],
      "metadata": {
        "id": "td4yvpBgLsCM"
      }
    },
    {
      "cell_type": "code",
      "execution_count": 1,
      "metadata": {
        "id": "7Q5Uve9AKxnB"
      },
      "outputs": [],
      "source": [
        "import os\n",
        "from collections import defaultdict\n",
        "import math\n",
        "import networkx as nx\n",
        "import random\n",
        "from tqdm import tqdm\n",
        "from zipfile import ZipFile\n",
        "from urllib.request import urlretrieve\n",
        "import numpy as np\n",
        "import pandas as pd\n",
        "import tensorflow as tf\n",
        "from tensorflow import keras\n",
        "from tensorflow.keras import layers\n",
        "import matplotlib.pyplot as plt"
      ]
    },
    {
      "cell_type": "markdown",
      "source": [
        "## **Retrieving Dataset via URL**"
      ],
      "metadata": {
        "id": "k3JAnMkXLzpX"
      }
    },
    {
      "cell_type": "code",
      "source": [
        "urlretrieve(\n",
        "    \"http://files.grouplens.org/datasets/movielens/ml-latest-small.zip\", \"movielens.zip\"\n",
        ")\n",
        "\n",
        "ZipFile(\"movielens.zip\", \"r\").extractall()"
      ],
      "metadata": {
        "id": "xYrrzQFILyS5"
      },
      "execution_count": 2,
      "outputs": []
    },
    {
      "cell_type": "markdown",
      "source": [
        "## **Converting Datasets into readable format**"
      ],
      "metadata": {
        "id": "ZN1B8ovgL7Bo"
      }
    },
    {
      "cell_type": "code",
      "source": [
        "# Load movies to a DataFrame\n",
        "movies = pd.read_csv(\"ml-latest-small/movies.csv\")\n",
        "\n",
        "# Create a `movieId` string\n",
        "movies[\"movieId\"] = movies[\"movieId\"].apply(lambda x: f\"movie_{x}\")\n",
        "\n",
        "# Load ratings to a DataFrame\n",
        "ratings = pd.read_csv(\"ml-latest-small/ratings.csv\") \n",
        "\n",
        "# Convert the `ratings` to floating point\n",
        "ratings[\"rating\"] = ratings[\"rating\"].apply(lambda x: float(x))\n",
        "\n",
        "# Create the `movie_id` string\n",
        "ratings[\"movieId\"] = ratings[\"movieId\"].apply(lambda x: f\"movie_{x}\")\n",
        "\n",
        "print(\"Movies data shape:\", movies.shape)\n",
        "print(\"Ratings data shape:\", ratings.shape)"
      ],
      "metadata": {
        "colab": {
          "base_uri": "https://localhost:8080/"
        },
        "id": "Mq9PNTN_L51G",
        "outputId": "0d23d544-a40e-435f-817d-af59f51f4075"
      },
      "execution_count": 3,
      "outputs": [
        {
          "output_type": "stream",
          "name": "stdout",
          "text": [
            "Movies data shape: (9742, 3)\n",
            "Ratings data shape: (100836, 4)\n"
          ]
        }
      ]
    },
    {
      "cell_type": "code",
      "source": [
        "# function to give the name of the movie from the movieId\n",
        "def get_movie_title_by_id(movieId):\n",
        "\n",
        "    return list(movies[movies.movieId == movieId].title)[0]  \n",
        "\n",
        "# function to give the id of the movie from the name of the movie\n",
        "def get_movie_id_by_title(title):\n",
        "\n",
        "    return list(movies[movies.title == title].movieId)[0]\n",
        "# look at the datasets\n",
        "ratings.head()  "
      ],
      "metadata": {
        "colab": {
          "base_uri": "https://localhost:8080/",
          "height": 206
        },
        "id": "sbdASFcbMFML",
        "outputId": "c1725e55-7a1b-4291-dff8-1d05169a351a"
      },
      "execution_count": 4,
      "outputs": [
        {
          "output_type": "execute_result",
          "data": {
            "text/plain": [
              "   userId   movieId  rating  timestamp\n",
              "0       1   movie_1     4.0  964982703\n",
              "1       1   movie_3     4.0  964981247\n",
              "2       1   movie_6     4.0  964982224\n",
              "3       1  movie_47     5.0  964983815\n",
              "4       1  movie_50     5.0  964982931"
            ],
            "text/html": [
              "\n",
              "  <div id=\"df-39dbfc3a-3cd9-471c-bd0a-4cc0bb4e5d61\">\n",
              "    <div class=\"colab-df-container\">\n",
              "      <div>\n",
              "<style scoped>\n",
              "    .dataframe tbody tr th:only-of-type {\n",
              "        vertical-align: middle;\n",
              "    }\n",
              "\n",
              "    .dataframe tbody tr th {\n",
              "        vertical-align: top;\n",
              "    }\n",
              "\n",
              "    .dataframe thead th {\n",
              "        text-align: right;\n",
              "    }\n",
              "</style>\n",
              "<table border=\"1\" class=\"dataframe\">\n",
              "  <thead>\n",
              "    <tr style=\"text-align: right;\">\n",
              "      <th></th>\n",
              "      <th>userId</th>\n",
              "      <th>movieId</th>\n",
              "      <th>rating</th>\n",
              "      <th>timestamp</th>\n",
              "    </tr>\n",
              "  </thead>\n",
              "  <tbody>\n",
              "    <tr>\n",
              "      <th>0</th>\n",
              "      <td>1</td>\n",
              "      <td>movie_1</td>\n",
              "      <td>4.0</td>\n",
              "      <td>964982703</td>\n",
              "    </tr>\n",
              "    <tr>\n",
              "      <th>1</th>\n",
              "      <td>1</td>\n",
              "      <td>movie_3</td>\n",
              "      <td>4.0</td>\n",
              "      <td>964981247</td>\n",
              "    </tr>\n",
              "    <tr>\n",
              "      <th>2</th>\n",
              "      <td>1</td>\n",
              "      <td>movie_6</td>\n",
              "      <td>4.0</td>\n",
              "      <td>964982224</td>\n",
              "    </tr>\n",
              "    <tr>\n",
              "      <th>3</th>\n",
              "      <td>1</td>\n",
              "      <td>movie_47</td>\n",
              "      <td>5.0</td>\n",
              "      <td>964983815</td>\n",
              "    </tr>\n",
              "    <tr>\n",
              "      <th>4</th>\n",
              "      <td>1</td>\n",
              "      <td>movie_50</td>\n",
              "      <td>5.0</td>\n",
              "      <td>964982931</td>\n",
              "    </tr>\n",
              "  </tbody>\n",
              "</table>\n",
              "</div>\n",
              "      <button class=\"colab-df-convert\" onclick=\"convertToInteractive('df-39dbfc3a-3cd9-471c-bd0a-4cc0bb4e5d61')\"\n",
              "              title=\"Convert this dataframe to an interactive table.\"\n",
              "              style=\"display:none;\">\n",
              "        \n",
              "  <svg xmlns=\"http://www.w3.org/2000/svg\" height=\"24px\"viewBox=\"0 0 24 24\"\n",
              "       width=\"24px\">\n",
              "    <path d=\"M0 0h24v24H0V0z\" fill=\"none\"/>\n",
              "    <path d=\"M18.56 5.44l.94 2.06.94-2.06 2.06-.94-2.06-.94-.94-2.06-.94 2.06-2.06.94zm-11 1L8.5 8.5l.94-2.06 2.06-.94-2.06-.94L8.5 2.5l-.94 2.06-2.06.94zm10 10l.94 2.06.94-2.06 2.06-.94-2.06-.94-.94-2.06-.94 2.06-2.06.94z\"/><path d=\"M17.41 7.96l-1.37-1.37c-.4-.4-.92-.59-1.43-.59-.52 0-1.04.2-1.43.59L10.3 9.45l-7.72 7.72c-.78.78-.78 2.05 0 2.83L4 21.41c.39.39.9.59 1.41.59.51 0 1.02-.2 1.41-.59l7.78-7.78 2.81-2.81c.8-.78.8-2.07 0-2.86zM5.41 20L4 18.59l7.72-7.72 1.47 1.35L5.41 20z\"/>\n",
              "  </svg>\n",
              "      </button>\n",
              "      \n",
              "  <style>\n",
              "    .colab-df-container {\n",
              "      display:flex;\n",
              "      flex-wrap:wrap;\n",
              "      gap: 12px;\n",
              "    }\n",
              "\n",
              "    .colab-df-convert {\n",
              "      background-color: #E8F0FE;\n",
              "      border: none;\n",
              "      border-radius: 50%;\n",
              "      cursor: pointer;\n",
              "      display: none;\n",
              "      fill: #1967D2;\n",
              "      height: 32px;\n",
              "      padding: 0 0 0 0;\n",
              "      width: 32px;\n",
              "    }\n",
              "\n",
              "    .colab-df-convert:hover {\n",
              "      background-color: #E2EBFA;\n",
              "      box-shadow: 0px 1px 2px rgba(60, 64, 67, 0.3), 0px 1px 3px 1px rgba(60, 64, 67, 0.15);\n",
              "      fill: #174EA6;\n",
              "    }\n",
              "\n",
              "    [theme=dark] .colab-df-convert {\n",
              "      background-color: #3B4455;\n",
              "      fill: #D2E3FC;\n",
              "    }\n",
              "\n",
              "    [theme=dark] .colab-df-convert:hover {\n",
              "      background-color: #434B5C;\n",
              "      box-shadow: 0px 1px 3px 1px rgba(0, 0, 0, 0.15);\n",
              "      filter: drop-shadow(0px 1px 2px rgba(0, 0, 0, 0.3));\n",
              "      fill: #FFFFFF;\n",
              "    }\n",
              "  </style>\n",
              "\n",
              "      <script>\n",
              "        const buttonEl =\n",
              "          document.querySelector('#df-39dbfc3a-3cd9-471c-bd0a-4cc0bb4e5d61 button.colab-df-convert');\n",
              "        buttonEl.style.display =\n",
              "          google.colab.kernel.accessAllowed ? 'block' : 'none';\n",
              "\n",
              "        async function convertToInteractive(key) {\n",
              "          const element = document.querySelector('#df-39dbfc3a-3cd9-471c-bd0a-4cc0bb4e5d61');\n",
              "          const dataTable =\n",
              "            await google.colab.kernel.invokeFunction('convertToInteractive',\n",
              "                                                     [key], {});\n",
              "          if (!dataTable) return;\n",
              "\n",
              "          const docLinkHtml = 'Like what you see? Visit the ' +\n",
              "            '<a target=\"_blank\" href=https://colab.research.google.com/notebooks/data_table.ipynb>data table notebook</a>'\n",
              "            + ' to learn more about interactive tables.';\n",
              "          element.innerHTML = '';\n",
              "          dataTable['output_type'] = 'display_data';\n",
              "          await google.colab.output.renderOutput(dataTable, element);\n",
              "          const docLink = document.createElement('div');\n",
              "          docLink.innerHTML = docLinkHtml;\n",
              "          element.appendChild(docLink);\n",
              "        }\n",
              "      </script>\n",
              "    </div>\n",
              "  </div>\n",
              "  "
            ]
          },
          "metadata": {},
          "execution_count": 4
        }
      ]
    },
    {
      "cell_type": "code",
      "source": [
        "movies.head()"
      ],
      "metadata": {
        "colab": {
          "base_uri": "https://localhost:8080/",
          "height": 206
        },
        "id": "yFGY6UepMQ--",
        "outputId": "20606fe5-5479-4084-d7ab-bc52783c9d48"
      },
      "execution_count": 5,
      "outputs": [
        {
          "output_type": "execute_result",
          "data": {
            "text/plain": [
              "   movieId                               title  \\\n",
              "0  movie_1                    Toy Story (1995)   \n",
              "1  movie_2                      Jumanji (1995)   \n",
              "2  movie_3             Grumpier Old Men (1995)   \n",
              "3  movie_4            Waiting to Exhale (1995)   \n",
              "4  movie_5  Father of the Bride Part II (1995)   \n",
              "\n",
              "                                        genres  \n",
              "0  Adventure|Animation|Children|Comedy|Fantasy  \n",
              "1                   Adventure|Children|Fantasy  \n",
              "2                               Comedy|Romance  \n",
              "3                         Comedy|Drama|Romance  \n",
              "4                                       Comedy  "
            ],
            "text/html": [
              "\n",
              "  <div id=\"df-7e7e0f35-21fc-48b7-8d52-e57b86d39fd8\">\n",
              "    <div class=\"colab-df-container\">\n",
              "      <div>\n",
              "<style scoped>\n",
              "    .dataframe tbody tr th:only-of-type {\n",
              "        vertical-align: middle;\n",
              "    }\n",
              "\n",
              "    .dataframe tbody tr th {\n",
              "        vertical-align: top;\n",
              "    }\n",
              "\n",
              "    .dataframe thead th {\n",
              "        text-align: right;\n",
              "    }\n",
              "</style>\n",
              "<table border=\"1\" class=\"dataframe\">\n",
              "  <thead>\n",
              "    <tr style=\"text-align: right;\">\n",
              "      <th></th>\n",
              "      <th>movieId</th>\n",
              "      <th>title</th>\n",
              "      <th>genres</th>\n",
              "    </tr>\n",
              "  </thead>\n",
              "  <tbody>\n",
              "    <tr>\n",
              "      <th>0</th>\n",
              "      <td>movie_1</td>\n",
              "      <td>Toy Story (1995)</td>\n",
              "      <td>Adventure|Animation|Children|Comedy|Fantasy</td>\n",
              "    </tr>\n",
              "    <tr>\n",
              "      <th>1</th>\n",
              "      <td>movie_2</td>\n",
              "      <td>Jumanji (1995)</td>\n",
              "      <td>Adventure|Children|Fantasy</td>\n",
              "    </tr>\n",
              "    <tr>\n",
              "      <th>2</th>\n",
              "      <td>movie_3</td>\n",
              "      <td>Grumpier Old Men (1995)</td>\n",
              "      <td>Comedy|Romance</td>\n",
              "    </tr>\n",
              "    <tr>\n",
              "      <th>3</th>\n",
              "      <td>movie_4</td>\n",
              "      <td>Waiting to Exhale (1995)</td>\n",
              "      <td>Comedy|Drama|Romance</td>\n",
              "    </tr>\n",
              "    <tr>\n",
              "      <th>4</th>\n",
              "      <td>movie_5</td>\n",
              "      <td>Father of the Bride Part II (1995)</td>\n",
              "      <td>Comedy</td>\n",
              "    </tr>\n",
              "  </tbody>\n",
              "</table>\n",
              "</div>\n",
              "      <button class=\"colab-df-convert\" onclick=\"convertToInteractive('df-7e7e0f35-21fc-48b7-8d52-e57b86d39fd8')\"\n",
              "              title=\"Convert this dataframe to an interactive table.\"\n",
              "              style=\"display:none;\">\n",
              "        \n",
              "  <svg xmlns=\"http://www.w3.org/2000/svg\" height=\"24px\"viewBox=\"0 0 24 24\"\n",
              "       width=\"24px\">\n",
              "    <path d=\"M0 0h24v24H0V0z\" fill=\"none\"/>\n",
              "    <path d=\"M18.56 5.44l.94 2.06.94-2.06 2.06-.94-2.06-.94-.94-2.06-.94 2.06-2.06.94zm-11 1L8.5 8.5l.94-2.06 2.06-.94-2.06-.94L8.5 2.5l-.94 2.06-2.06.94zm10 10l.94 2.06.94-2.06 2.06-.94-2.06-.94-.94-2.06-.94 2.06-2.06.94z\"/><path d=\"M17.41 7.96l-1.37-1.37c-.4-.4-.92-.59-1.43-.59-.52 0-1.04.2-1.43.59L10.3 9.45l-7.72 7.72c-.78.78-.78 2.05 0 2.83L4 21.41c.39.39.9.59 1.41.59.51 0 1.02-.2 1.41-.59l7.78-7.78 2.81-2.81c.8-.78.8-2.07 0-2.86zM5.41 20L4 18.59l7.72-7.72 1.47 1.35L5.41 20z\"/>\n",
              "  </svg>\n",
              "      </button>\n",
              "      \n",
              "  <style>\n",
              "    .colab-df-container {\n",
              "      display:flex;\n",
              "      flex-wrap:wrap;\n",
              "      gap: 12px;\n",
              "    }\n",
              "\n",
              "    .colab-df-convert {\n",
              "      background-color: #E8F0FE;\n",
              "      border: none;\n",
              "      border-radius: 50%;\n",
              "      cursor: pointer;\n",
              "      display: none;\n",
              "      fill: #1967D2;\n",
              "      height: 32px;\n",
              "      padding: 0 0 0 0;\n",
              "      width: 32px;\n",
              "    }\n",
              "\n",
              "    .colab-df-convert:hover {\n",
              "      background-color: #E2EBFA;\n",
              "      box-shadow: 0px 1px 2px rgba(60, 64, 67, 0.3), 0px 1px 3px 1px rgba(60, 64, 67, 0.15);\n",
              "      fill: #174EA6;\n",
              "    }\n",
              "\n",
              "    [theme=dark] .colab-df-convert {\n",
              "      background-color: #3B4455;\n",
              "      fill: #D2E3FC;\n",
              "    }\n",
              "\n",
              "    [theme=dark] .colab-df-convert:hover {\n",
              "      background-color: #434B5C;\n",
              "      box-shadow: 0px 1px 3px 1px rgba(0, 0, 0, 0.15);\n",
              "      filter: drop-shadow(0px 1px 2px rgba(0, 0, 0, 0.3));\n",
              "      fill: #FFFFFF;\n",
              "    }\n",
              "  </style>\n",
              "\n",
              "      <script>\n",
              "        const buttonEl =\n",
              "          document.querySelector('#df-7e7e0f35-21fc-48b7-8d52-e57b86d39fd8 button.colab-df-convert');\n",
              "        buttonEl.style.display =\n",
              "          google.colab.kernel.accessAllowed ? 'block' : 'none';\n",
              "\n",
              "        async function convertToInteractive(key) {\n",
              "          const element = document.querySelector('#df-7e7e0f35-21fc-48b7-8d52-e57b86d39fd8');\n",
              "          const dataTable =\n",
              "            await google.colab.kernel.invokeFunction('convertToInteractive',\n",
              "                                                     [key], {});\n",
              "          if (!dataTable) return;\n",
              "\n",
              "          const docLinkHtml = 'Like what you see? Visit the ' +\n",
              "            '<a target=\"_blank\" href=https://colab.research.google.com/notebooks/data_table.ipynb>data table notebook</a>'\n",
              "            + ' to learn more about interactive tables.';\n",
              "          element.innerHTML = '';\n",
              "          dataTable['output_type'] = 'display_data';\n",
              "          await google.colab.output.renderOutput(dataTable, element);\n",
              "          const docLink = document.createElement('div');\n",
              "          docLink.innerHTML = docLinkHtml;\n",
              "          element.appendChild(docLink);\n",
              "        }\n",
              "      </script>\n",
              "    </div>\n",
              "  </div>\n",
              "  "
            ]
          },
          "metadata": {},
          "execution_count": 5
        }
      ]
    },
    {
      "cell_type": "markdown",
      "source": [
        "## **Pairwise and Item Frequency**\n",
        "- Calculate item_frequency for each movie and pair_frequency for every possible pair of movies."
      ],
      "metadata": {
        "id": "V--vARB2MVJR"
      }
    },
    {
      "cell_type": "code",
      "source": [
        "min_rating = 5\n",
        "\n",
        "item_frequency = defaultdict(int)  # Dictionary to indicate how many times each movie has been watched\n",
        "pair_frequency = defaultdict(int)  # Dictionary to indicate how many times a particular pair of movies have been watched\n",
        "\n",
        "# Filter instances where the rating is greater than or equal to min_rating\n",
        "rated_movies = ratings[ratings.rating >= min_rating]\n",
        "\n",
        "# Group instances by the user. Here, each group contains movies watched by a particular user\n",
        "movies_grouped_by_users = list(rated_movies.groupby(\"userId\"))\n",
        "\n",
        "for group in tqdm(   \n",
        "    movies_grouped_by_users,   \n",
        "    position = 0,\n",
        "    leave = True,\n",
        "    desc = \"Compute movie rating frequencies\",\n",
        "\n",
        "):  # Iterating over all the groups\n",
        "\n",
        "    # Get a list of movies rated by the user\n",
        "    current_movies = list(group[1][\"movieId\"])\n",
        "\n",
        "    for i in range(len(current_movies)):\n",
        "        item_frequency[current_movies[i]] += 1  # Increasing count of item frequency for a particular movie on encountering it in a group       \n",
        "        for j in range(i + 1, len(current_movies)):\n",
        "            x = min(current_movies[i], current_movies[j])  \n",
        "            y = max(current_movies[i], current_movies[j])\n",
        "            \n",
        "            pair_frequency[(x, y)] += 1  # Increasing count of pair frequency for a particular pair of movies on coming across it"
      ],
      "metadata": {
        "colab": {
          "base_uri": "https://localhost:8080/"
        },
        "id": "St-hbnsbMTEE",
        "outputId": "dfc6ffbb-932c-4f79-aff0-4bd69714a698"
      },
      "execution_count": 6,
      "outputs": [
        {
          "output_type": "stream",
          "name": "stderr",
          "text": [
            "Compute movie rating frequencies: 100%|██████████| 573/573 [00:01<00:00, 562.55it/s]\n"
          ]
        }
      ]
    },
    {
      "cell_type": "markdown",
      "source": [
        "- The first dictionary, i.e., 'item_frequency' is the item frequency where we calculate the number of times each movie has been watched, assuming every user has watched any particular movie exactly once.\n",
        "- The second dictionary, i.e., 'pair_frequency' is the pair-wise frequency, where we see how many users have watched both of these movies.\n",
        "- A greater value indicates higher probability of one of these movies being suggested when any new user has watched the other movie in the pair, i.e, if the pair-wise frequency of movie A and movie B is high, and a new user happens to watch movie A, they are likely to be suggested movie B."
      ],
      "metadata": {
        "id": "zhhrrBg-MwB0"
      }
    },
    {
      "cell_type": "markdown",
      "source": [
        "## **Creating the Graphs**\n",
        "- Model what movies are frequently watched together based on all of the user data."
      ],
      "metadata": {
        "id": "5js9nL9cMzKl"
      }
    },
    {
      "cell_type": "code",
      "source": [
        "min_weight = 10\n",
        "\n",
        "D = math.log(sum(item_frequency.values()))\n",
        "\n",
        "# Create the undirected graph with the movies as nodes\n",
        "movies_graph = nx.Graph()\n",
        "\n",
        "# Add weighted edges between movies\n",
        "# This automatically adds the movie nodes to the graph\n",
        "\n",
        "for pair in tqdm(\n",
        "    pair_frequency, position = 0, leave = True, desc = \"Creating the movie graph\"\n",
        "):  # Iterating over every pair of movies\n",
        "    x, y = pair  # Unpacking the tuple called 'pair' to receive the two movies\n",
        "\n",
        "    \n",
        "    xy_frequency = pair_frequency[pair]  # Pair-wise frequency of two particular movies   \n",
        "    x_frequency = item_frequency[x]  # Item frequency for the first movie in the pair    \n",
        "    y_frequency = item_frequency[y]  # Item frequency for the second movie in the pair\n",
        "\n",
        "    # Calculating PMI index as a measure of the pairing strength\n",
        "    pmi = math.log(xy_frequency) - math.log(x_frequency) - math.log(y_frequency) + D\n",
        "    weight = pmi * xy_frequency\n",
        "\n",
        "    # Only include edges with weight >= min_weight\n",
        "    if weight >= min_weight:\n",
        "        movies_graph.add_edge(x, y, weight = weight)  # Adding the edge to those particular nodes"
      ],
      "metadata": {
        "colab": {
          "base_uri": "https://localhost:8080/"
        },
        "id": "muw6JtglMrxP",
        "outputId": "8e8aaf8e-a094-40d6-8931-ec1c4c0defd6"
      },
      "execution_count": 7,
      "outputs": [
        {
          "output_type": "stream",
          "name": "stderr",
          "text": [
            "Creating the movie graph: 100%|██████████| 298586/298586 [00:00<00:00, 407435.73it/s]\n"
          ]
        }
      ]
    },
    {
      "cell_type": "markdown",
      "source": [
        "-  In our graph, our nodes are our movies and our edges are drawn based on the product of the PMI index and pair frequency for the two movies we are calculating the edge weight for. If this value exceeds our minimum weight (which is a hyperparameter defined by us, in this case, equal to 10) we draw an edge with the calculated weight."
      ],
      "metadata": {
        "id": "lbImAnGxNOLC"
      }
    },
    {
      "cell_type": "code",
      "source": [
        "print(\"Total number of graph nodes:\", movies_graph.number_of_nodes())\n",
        "print(\"Total number of graph edges:\", movies_graph.number_of_edges())"
      ],
      "metadata": {
        "colab": {
          "base_uri": "https://localhost:8080/"
        },
        "id": "DfuIaiPDNJSZ",
        "outputId": "fa0ee488-65a8-4f65-a45e-78660cfeb9ba"
      },
      "execution_count": 8,
      "outputs": [
        {
          "output_type": "stream",
          "name": "stdout",
          "text": [
            "Total number of graph nodes: 1405\n",
            "Total number of graph edges: 40043\n"
          ]
        }
      ]
    },
    {
      "cell_type": "markdown",
      "source": [
        "## **Calculating Average Degree**\n",
        "- Average degree often gives us an idea about the inter-connectivity of the nodes."
      ],
      "metadata": {
        "id": "XmGVAHliNU4R"
      }
    },
    {
      "cell_type": "code",
      "source": [
        "degrees = []\n",
        "\n",
        "for node in movies_graph.nodes:\n",
        "    degrees.append(movies_graph.degree[node])\n",
        "\n",
        "print(\"Average node degree:\", round(sum(degrees) / len(degrees), 2))"
      ],
      "metadata": {
        "colab": {
          "base_uri": "https://localhost:8080/"
        },
        "id": "geQaf6B-NSlk",
        "outputId": "4f332406-c928-420c-88ca-4571a99a8404"
      },
      "execution_count": 9,
      "outputs": [
        {
          "output_type": "stream",
          "name": "stdout",
          "text": [
            "Average node degree: 57.0\n"
          ]
        }
      ]
    },
    {
      "cell_type": "markdown",
      "source": [
        "- This average degree comes out to be 57 when we are taking the minimum weight to be 10. This gives us an idea that on average every node is connected to 57 other nodes."
      ],
      "metadata": {
        "id": "T4icjvkHNh-M"
      }
    },
    {
      "cell_type": "markdown",
      "source": [
        "## **Creating Vocabulary lookup for Embedding**"
      ],
      "metadata": {
        "id": "t2XURvwoNkRQ"
      }
    },
    {
      "cell_type": "code",
      "source": [
        "vocabulary = [\"NA\"] + list(movies_graph.nodes)\n",
        "vocabulary_lookup = {token: idx for idx, token in enumerate(vocabulary)}"
      ],
      "metadata": {
        "id": "OMzjKIewNe6k"
      },
      "execution_count": 10,
      "outputs": []
    },
    {
      "cell_type": "markdown",
      "source": [
        "## **Traversing through Graph: picking the next node among all neighbors**\n",
        "-  Function 'next_step()' does the simple operation of traveling to the next node given you’re currently on a node"
      ],
      "metadata": {
        "id": "RT8kXcsrNqvu"
      }
    },
    {
      "cell_type": "code",
      "source": [
        "def next_step(graph, previous, current, p, q):\n",
        "    neighbors = list(graph.neighbors(current))\n",
        "    weights = []\n",
        "\n",
        "    # Adjust the weights of the edges to the neighbors with the help of p and q so that we can control or give a preference to which category of nodes we would want to visit next\n",
        "    for neighbor in neighbors: # Looping through all the neighbors\n",
        "        if neighbor == previous:\n",
        "            # Control the probability to return to the previous node\n",
        "            weights.append(graph[current][neighbor][\"weight\"] / p)\n",
        "        elif graph.has_edge(neighbor, previous):\n",
        "            # The probability of visiting a local node\n",
        "            weights.append(graph[current][neighbor][\"weight\"])\n",
        "        else:\n",
        "            # Control the probability to move forward\n",
        "            weights.append(graph[current][neighbor][\"weight\"] / q)\n",
        "    # Compute the probabilities of visiting each neighbor\n",
        "    weight_sum = sum(weights)\n",
        "    probabilities = [weight / weight_sum for weight in weights]\n",
        "\n",
        "    # Probabilistically select a neighbor to visit\n",
        "    next = np.random.choice(neighbors, size = 1, p = probabilities)[0]\n",
        "    \n",
        "    return next"
      ],
      "metadata": {
        "id": "GrHi9M8ANn03"
      },
      "execution_count": 11,
      "outputs": []
    },
    {
      "cell_type": "markdown",
      "source": [
        "- we have two hyperparameters, p and q, through which we can modify the probabilities a little. The value of q should lie between 1 and p. This is because the probability of visiting a node that has an edge with the current node as well as an edge with a previous node should be the greatest. The probability of a node that has an edge with the current node but not with the previous node should be lesser than the previous case. The probability of re-visiting this node should be the least."
      ],
      "metadata": {
        "id": "1MlUI3QlOG8L"
      }
    },
    {
      "cell_type": "markdown",
      "source": [
        "## **Creating Walks across our Graph**\n",
        "- Generate sequences of movies that are connected with each other through edges inside the graph."
      ],
      "metadata": {
        "id": "Jmmiqp_fOKCP"
      }
    },
    {
      "cell_type": "code",
      "source": [
        "def random_walk(graph, num_walks, num_steps, p, q):\n",
        "    walks = []\n",
        "    nodes = list(graph.nodes())\n",
        "\n",
        "    # Perform multiple iterations of the random walk\n",
        "    for walk_iteration in range(num_walks):\n",
        "        random.shuffle(nodes)\n",
        "        for node in tqdm(      \n",
        "            nodes,\n",
        "            position = 0,\n",
        "            leave = True,\n",
        "            desc = f\"Random walks iteration {walk_iteration + 1} of {num_walks}\",\n",
        "        ):\n",
        "            # Start the walk with a random node from the graph\n",
        "            walk = [node]\n",
        "\n",
        "            # Randomly walk for num_steps by calling the next_step function we created above \n",
        "            while len(walk) < num_steps:  \n",
        "                current = walk[-1]  # Current node is the last element of the array 'walk'              \n",
        "                previous = walk[-2] if len(walk) > 1 else None  # If the length of our array 'walk' is more than one, then the previous node is the second last element of the array 'walk'            \n",
        "                next = next_step(graph, previous, current, p, q)  # Compute the next node to visit             \n",
        "                walk.append(next)  # Append the next node obtained to the array 'walk'\n",
        "\n",
        "            # Replace node ids (movieId) in the walk with token ids by looking at the vocabulary lookup\n",
        "            walk = [vocabulary_lookup[token] for token in walk]\n",
        "\n",
        "            # Add the walk to the generated sequence      \n",
        "            walks.append(walk)\n",
        "\n",
        "    return walks"
      ],
      "metadata": {
        "id": "zovrn9ivN-DC"
      },
      "execution_count": 12,
      "outputs": []
    },
    {
      "cell_type": "markdown",
      "source": [
        "## **Setting Hyperparameters for traversing through the Graph**"
      ],
      "metadata": {
        "id": "VOttbvxIOgkl"
      }
    },
    {
      "cell_type": "code",
      "source": [
        "# Random walk return parameter\n",
        "p = 2\n",
        "\n",
        "# Random walk in-out parameter\n",
        "q = 1.5\n",
        "\n",
        "# Number of iterations of random walks\n",
        "num_walks = 5\n",
        "\n",
        "# Number of steps of each random walk\n",
        "num_steps = 10\n",
        "walks = random_walk(movies_graph, num_walks, num_steps, p, q)\n",
        "\n",
        "print(\"Number of walks generated:\", len(walks))"
      ],
      "metadata": {
        "colab": {
          "base_uri": "https://localhost:8080/"
        },
        "id": "AXD9R7oTOccY",
        "outputId": "1bd50922-8b05-4b83-d625-a897101a905f"
      },
      "execution_count": 13,
      "outputs": [
        {
          "output_type": "stream",
          "name": "stderr",
          "text": [
            "Random walks iteration 1 of 5: 100%|██████████| 1405/1405 [00:07<00:00, 196.38it/s]\n",
            "Random walks iteration 2 of 5: 100%|██████████| 1405/1405 [00:06<00:00, 210.69it/s]\n",
            "Random walks iteration 3 of 5: 100%|██████████| 1405/1405 [00:07<00:00, 193.82it/s]\n",
            "Random walks iteration 4 of 5: 100%|██████████| 1405/1405 [00:06<00:00, 205.26it/s]\n",
            "Random walks iteration 5 of 5: 100%|██████████| 1405/1405 [00:06<00:00, 208.01it/s]"
          ]
        },
        {
          "output_type": "stream",
          "name": "stdout",
          "text": [
            "Number of walks generated: 7025\n"
          ]
        },
        {
          "output_type": "stream",
          "name": "stderr",
          "text": [
            "\n"
          ]
        }
      ]
    },
    {
      "cell_type": "markdown",
      "source": [
        "- We have set the value of p to 2, and q should lie between 1 and p. So we have chosen its value as 1.5."
      ],
      "metadata": {
        "id": "kZBagqbBOv25"
      }
    },
    {
      "cell_type": "markdown",
      "source": [
        "## **Generating Pairs of Movies that should have closer Embeddings**\n",
        "- Generate_examples( ) function, we use the skipgram function, which creates positive and negative samples."
      ],
      "metadata": {
        "id": "0G9MJy-LOybw"
      }
    },
    {
      "cell_type": "code",
      "source": [
        "def generate_examples(sequences, window_size, num_negative_samples, vocabulary_size):\n",
        "    example_weights = defaultdict(int)\n",
        "    \n",
        "    # Iterate over all sequences (walks)\n",
        "    for sequence in tqdm(       \n",
        "        sequences,\n",
        "        position = 0,\n",
        "        leave = True,\n",
        "        desc = f\"Generating postive and negative examples\",\n",
        "    ):\n",
        "        \n",
        "        # Generate positive and negative skipgram pairs for a sequence or walk       \n",
        "        pairs, labels = keras.preprocessing.sequence.skipgrams(           \n",
        "            sequence,\n",
        "            vocabulary_size = vocabulary_size,\n",
        "            window_size = window_size,\n",
        "            negative_samples = num_negative_samples,\n",
        "        )\n",
        "        for idx in range(len(pairs)):  # Iterating through all pairs received from the skipgram function\n",
        "            pair = pairs[idx]  # Extracting the pair of movies\n",
        "            label = labels[idx]  # Extracting the labels\n",
        "            target, context = min(pair[0], pair[1]), max(pair[0], pair[1])\n",
        "\n",
        "            if target == context:            \n",
        "                continue\n",
        "            if(label == 1):  # If a positive sample is generated we label them 1, otherwise we label them 0                 \n",
        "                previous_negative_label = 0\n",
        "                previous_negative_entry = (target, context, previous_negative_label)\n",
        "                example_weights[previous_negative_entry] = 0  # Making the previous entry of the negative sample equal to zero because we have a positive sample now               \n",
        "                entry = (target, context, label)               \n",
        "                example_weights[entry] += 1           \n",
        "            if(label == 0):  # If a negative sample is generated               \n",
        "                querylabel = 1              \n",
        "                queryentry = (target, context, querylabel)  # We check if a positive sample with the same pair of movies exist   \n",
        "                \n",
        "                if ( example_weights[queryentry]>0):              \n",
        "                    continue  # We skip adding this entry to our entry if already a positive sample exists          \n",
        "                else:             \n",
        "                    entry = (target, context, label)             \n",
        "                    example_weights[entry] +=1  # If a positive sample doesn't exist, we add the negative example\n",
        "\n",
        "    targets, contexts, labels, weights = [], [], [], []\n",
        "\n",
        "    for entry in example_weights:   \n",
        "        weight = example_weights[entry]\n",
        "    \n",
        "        if(weight > 0):\n",
        "            target, context, label = entry  # Tuple unpacking of the 'entry' tuple         \n",
        "            targets.append(target)           \n",
        "            contexts.append(context)           \n",
        "            labels.append(label)            \n",
        "            weights.append(weight)\n",
        "\n",
        "    return np.array(targets), np.array(contexts), np.array(labels), np.array(weights)\n",
        "\n",
        "\n",
        "num_negative_samples = 4\n",
        "\n",
        "targets, contexts, labels, weights = generate_examples(\n",
        "    sequences = walks,\n",
        "    window_size = num_steps,  \n",
        "    num_negative_samples = num_negative_samples,\n",
        "    vocabulary_size = len(vocabulary),\n",
        ")"
      ],
      "metadata": {
        "colab": {
          "base_uri": "https://localhost:8080/"
        },
        "id": "EXQR719VOm8f",
        "outputId": "294d1c11-784a-437e-aed6-20d01292c47c"
      },
      "execution_count": 14,
      "outputs": [
        {
          "output_type": "stream",
          "name": "stderr",
          "text": [
            "Generating postive and negative examples: 100%|██████████| 7025/7025 [00:17<00:00, 410.33it/s]\n"
          ]
        }
      ]
    },
    {
      "cell_type": "code",
      "source": [
        "print(f\"Targets shape: {targets.shape}\")\n",
        "print(f\"Contexts shape: {contexts.shape}\")\n",
        "print(f\"Labels shape: {labels.shape}\")\n",
        "print(f\"Weights shape: {weights.shape}\")"
      ],
      "metadata": {
        "colab": {
          "base_uri": "https://localhost:8080/"
        },
        "id": "tM8gVGcQPRp9",
        "outputId": "1b53296a-88b5-4f33-cc50-55bab4d84831"
      },
      "execution_count": 15,
      "outputs": [
        {
          "output_type": "stream",
          "name": "stdout",
          "text": [
            "Targets shape: (728614,)\n",
            "Contexts shape: (728614,)\n",
            "Labels shape: (728614,)\n",
            "Weights shape: (728614,)\n"
          ]
        }
      ]
    },
    {
      "cell_type": "markdown",
      "source": [
        "## **Generating Data in a Classification format for our Neural Network Training**"
      ],
      "metadata": {
        "id": "_-zX0lwePY0Z"
      }
    },
    {
      "cell_type": "code",
      "source": [
        "batch_size = 1024\n",
        "\n",
        "def create_dataset(targets, contexts, labels, weights, batch_size):\n",
        "    inputs = {\n",
        "        \"target\": targets,\n",
        "        \"context\": contexts,\n",
        "    }  # Pre-processing the targets, contexts, and labels vectors to fit our Neural Network pipeline \n",
        "    \n",
        "    dataset = tf.data.Dataset.from_tensor_slices((inputs, labels, weights))  \n",
        "    dataset = dataset.shuffle(buffer_size = batch_size * 2)  # Shuffling the data set to remove any chance of sequential data   \n",
        "    dataset = dataset.batch(batch_size, drop_remainder = True)\n",
        "    dataset = dataset.prefetch(tf.data.AUTOTUNE)\n",
        " \n",
        "    return dataset\n",
        "\n",
        "\n",
        "dataset = create_dataset(\n",
        "    targets = targets,\n",
        "    contexts = contexts,\n",
        "    labels = labels,\n",
        "    weights = weights,  \n",
        "    batch_size = batch_size,\n",
        ")"
      ],
      "metadata": {
        "id": "_0xBzMD6PWru"
      },
      "execution_count": 16,
      "outputs": []
    },
    {
      "cell_type": "markdown",
      "source": [
        "## **Hyperparameters for Neural Network Training**"
      ],
      "metadata": {
        "id": "LAObbwoJPmXx"
      }
    },
    {
      "cell_type": "code",
      "source": [
        "learning_rate = 0.001\n",
        "embedding_dim = 50\n",
        "num_epochs = 10"
      ],
      "metadata": {
        "id": "y7ZtjW_QPjbI"
      },
      "execution_count": 17,
      "outputs": []
    },
    {
      "cell_type": "markdown",
      "source": [
        "## **Creating our Model**\n",
        "- Building a Neural Network Architecture which would take the target and context movie as input and try to predict the output label."
      ],
      "metadata": {
        "id": "_nMGokk7Pq_a"
      }
    },
    {
      "cell_type": "code",
      "source": [
        "def create_model(vocabulary_size, embedding_dim):\n",
        "    inputs = {\n",
        "        \"target\": layers.Input(name = \"target\", shape = (), dtype = \"int32\"),\n",
        "        \"context\": layers.Input(name = \"context\", shape = (), dtype = \"int32\"),\n",
        "    }\n",
        "    # Initialize item embeddings   \n",
        "    embed_item = layers.Embedding(\n",
        "        input_dim = vocabulary_size,      \n",
        "        output_dim = embedding_dim,     \n",
        "        embeddings_initializer = \"he_normal\",     \n",
        "        embeddings_regularizer = keras.regularizers.l2(1e-6),      \n",
        "        name=\"item_embeddings\",\n",
        "    )\n",
        "    \n",
        "    # Lookup embeddings for the target\n",
        "    target_embeddings = embed_item(inputs[\"target\"])\n",
        "    \n",
        "    # Lookup embeddings for the context  \n",
        "    context_embeddings = embed_item(inputs[\"context\"])\n",
        "    \n",
        "    # Compute dot similarity between target and context embeddings \n",
        "    logits = layers.Dot(axes = 1, normalize = False, name = \"dot_similarity\")(\n",
        "        \n",
        "        [target_embeddings, context_embeddings]\n",
        "    )\n",
        "\n",
        "    # Create the model   \n",
        "    model = keras.Model(inputs = inputs, outputs = logits)\n",
        "    \n",
        "    return model"
      ],
      "metadata": {
        "id": "YyMIlBcePqEo"
      },
      "execution_count": 18,
      "outputs": []
    },
    {
      "cell_type": "code",
      "source": [
        "model = create_model(len(vocabulary), embedding_dim)\n",
        "\n",
        "model.compile(\n",
        "    optimizer = keras.optimizers.Adam(learning_rate),\n",
        "    loss = keras.losses.BinaryCrossentropy(from_logits = True),\n",
        ")  # Setting up the model's optimizers"
      ],
      "metadata": {
        "id": "7sZphy7xP7Jx"
      },
      "execution_count": 19,
      "outputs": []
    },
    {
      "cell_type": "code",
      "source": [
        "!pip install pydot"
      ],
      "metadata": {
        "colab": {
          "base_uri": "https://localhost:8080/"
        },
        "id": "zu9CQn-4P_IJ",
        "outputId": "bbccb08e-dbc2-462b-82f5-078f99eebcb1"
      },
      "execution_count": 20,
      "outputs": [
        {
          "output_type": "stream",
          "name": "stdout",
          "text": [
            "Looking in indexes: https://pypi.org/simple, https://us-python.pkg.dev/colab-wheels/public/simple/\n",
            "Requirement already satisfied: pydot in /usr/local/lib/python3.7/dist-packages (1.3.0)\n",
            "Requirement already satisfied: pyparsing>=2.1.4 in /usr/local/lib/python3.7/dist-packages (from pydot) (3.0.9)\n"
          ]
        }
      ]
    },
    {
      "cell_type": "markdown",
      "source": [
        "## **Visualizing the Model**"
      ],
      "metadata": {
        "id": "eVYW9pnFQCuk"
      }
    },
    {
      "cell_type": "code",
      "source": [
        "keras.utils.plot_model(\n",
        "    model, show_shapes = True, show_dtype = True, show_layer_names = True,\n",
        ")"
      ],
      "metadata": {
        "colab": {
          "base_uri": "https://localhost:8080/",
          "height": 404
        },
        "id": "z15zcdAIQBD3",
        "outputId": "413bd371-4c7b-40aa-83bd-d7ba02479a13"
      },
      "execution_count": 21,
      "outputs": [
        {
          "output_type": "execute_result",
          "data": {
            "image/png": "[encoded data removed]",
            "text/plain": [
              "<IPython.core.display.Image object>"
            ]
          },
          "metadata": {},
          "execution_count": 21
        }
      ]
    },
    {
      "cell_type": "markdown",
      "source": [
        "## **Training Phase**"
      ],
      "metadata": {
        "id": "Q9Dr63v_QMPL"
      }
    },
    {
      "cell_type": "code",
      "source": [
        "history = model.fit(dataset, epochs = num_epochs)"
      ],
      "metadata": {
        "colab": {
          "base_uri": "https://localhost:8080/"
        },
        "id": "fag4xc0KQJb1",
        "outputId": "cb025058-2e0d-4ce6-c57a-fd1df7da16b3"
      },
      "execution_count": 22,
      "outputs": [
        {
          "output_type": "stream",
          "name": "stdout",
          "text": [
            "Epoch 1/10\n",
            "711/711 [==============================] - 5s 5ms/step - loss: 2.1022\n",
            "Epoch 2/10\n",
            "711/711 [==============================] - 5s 7ms/step - loss: 1.7554\n",
            "Epoch 3/10\n",
            "711/711 [==============================] - 8s 11ms/step - loss: 1.6892\n",
            "Epoch 4/10\n",
            "711/711 [==============================] - 7s 9ms/step - loss: 1.6583\n",
            "Epoch 5/10\n",
            "711/711 [==============================] - 6s 9ms/step - loss: 1.6387\n",
            "Epoch 6/10\n",
            "711/711 [==============================] - 5s 7ms/step - loss: 1.6252\n",
            "Epoch 7/10\n",
            "711/711 [==============================] - 4s 6ms/step - loss: 1.6132\n",
            "Epoch 8/10\n",
            "711/711 [==============================] - 5s 7ms/step - loss: 1.6005\n",
            "Epoch 9/10\n",
            "711/711 [==============================] - 5s 6ms/step - loss: 1.5863\n",
            "Epoch 10/10\n",
            "711/711 [==============================] - 4s 5ms/step - loss: 1.5705\n"
          ]
        }
      ]
    },
    {
      "cell_type": "code",
      "source": [
        "plt.plot(history.history[\"loss\"])\n",
        "plt.ylabel(\"loss\")\n",
        "plt.xlabel(\"epoch\")\n",
        "plt.show()"
      ],
      "metadata": {
        "colab": {
          "base_uri": "https://localhost:8080/",
          "height": 279
        },
        "id": "8ucngygLQRDi",
        "outputId": "5eeda43f-527c-48c2-ae59-8dcb0637455d"
      },
      "execution_count": 23,
      "outputs": [
        {
          "output_type": "display_data",
          "data": {
            "text/plain": [
              "<Figure size 432x288 with 1 Axes>"
            ],
            "image/png": "[encoded data removed]"
          },
          "metadata": {
            "needs_background": "light"
          }
        }
      ]
    },
    {
      "cell_type": "markdown",
      "source": [
        "## **Extracting the Embedding Vector**"
      ],
      "metadata": {
        "id": "1op81Y_yQVRq"
      }
    },
    {
      "cell_type": "code",
      "source": [
        "movie_embeddings = model.get_layer(\"item_embeddings\").get_weights()[0]  # Extracting the layer weight by layer name\n",
        "print(\"Embeddings shape:\", movie_embeddings.shape)"
      ],
      "metadata": {
        "colab": {
          "base_uri": "https://localhost:8080/"
        },
        "id": "VTab_RAzQUCr",
        "outputId": "d9edbc1f-19c6-487e-c293-b07232fee9ed"
      },
      "execution_count": 24,
      "outputs": [
        {
          "output_type": "stream",
          "name": "stdout",
          "text": [
            "Embeddings shape: (1406, 50)\n"
          ]
        }
      ]
    },
    {
      "cell_type": "code",
      "source": [
        "query_movies = [\n",
        "    \"Matrix, The (1999)\",\n",
        "    \"Star Wars: Episode IV - A New Hope (1977)\",\n",
        "    \"Lion King, The (1994)\",\n",
        "    \"Terminator 2: Judgment Day (1991)\",\n",
        "    \"Godfather, The (1972)\",\n",
        "]"
      ],
      "metadata": {
        "id": "n9MU2byUQaX_"
      },
      "execution_count": 25,
      "outputs": []
    },
    {
      "cell_type": "markdown",
      "source": [
        "## **Converting Query movies to Query Embeddings**"
      ],
      "metadata": {
        "id": "ijmch011Qgn3"
      }
    },
    {
      "cell_type": "code",
      "source": [
        "query_embeddings = []\n",
        "\n",
        "for movie_title in query_movies:\n",
        "    movieId = get_movie_id_by_title(movie_title)  # Getting id from the title of the movie\n",
        "    token_id = vocabulary_lookup[movieId]  # Getting index to lookup for embedding task\n",
        "    movie_embedding = movie_embeddings[token_id]  # Getting embedding for query movies\n",
        "    query_embeddings.append(movie_embedding)\n",
        "\n",
        "query_embeddings = np.array(query_embeddings)"
      ],
      "metadata": {
        "id": "HnL3nro7QenQ"
      },
      "execution_count": 26,
      "outputs": []
    },
    {
      "cell_type": "markdown",
      "source": [
        "## **Finding the top 5 similar Embeddings**"
      ],
      "metadata": {
        "id": "VDo-5FufT3X1"
      }
    },
    {
      "cell_type": "code",
      "source": [
        "similarities = tf.linalg.matmul(\n",
        "    tf.math.l2_normalize(query_embeddings),  # Normalizing the results of multiplication to get output of dot product on a scale of 0 to 1\n",
        "    tf.math.l2_normalize(movie_embeddings),   \n",
        "    transpose_b = True,\n",
        ")\n",
        "\n",
        "_, indices = tf.math.top_k(similarities, k = 5)\n",
        "\n",
        "indices = indices.numpy().tolist()"
      ],
      "metadata": {
        "id": "PHuMhFvIT1iE"
      },
      "execution_count": 27,
      "outputs": []
    },
    {
      "cell_type": "markdown",
      "source": [
        "## **Converting those top 5 Embeddings to Movie titles**"
      ],
      "metadata": {
        "id": "cufLgEDQUAlx"
      }
    },
    {
      "cell_type": "code",
      "source": [
        "for idx, title in enumerate(query_movies):\n",
        "    print(title)\n",
        "    print(\"\".rjust(len(title), \"-\"))\n",
        "    similar_tokens = indices[idx]\n",
        "\n",
        "    for token in similar_tokens:\n",
        "        similar_movieId = vocabulary[token]\n",
        "        similar_title = get_movie_title_by_id(similar_movieId)\n",
        "        print(f\"- {similar_title}\")\n",
        "\n",
        "    print()"
      ],
      "metadata": {
        "colab": {
          "base_uri": "https://localhost:8080/"
        },
        "id": "Em-kVSa_T-zL",
        "outputId": "0f53ac36-a5e5-4fa2-de46-c88b23cdcec0"
      },
      "execution_count": 28,
      "outputs": [
        {
          "output_type": "stream",
          "name": "stdout",
          "text": [
            "Matrix, The (1999)\n",
            "------------------\n",
            "- Matrix, The (1999)\n",
            "- Fight Club (1999)\n",
            "- Inception (2010)\n",
            "- Snatch (2000)\n",
            "- Star Wars: Episode VI - Return of the Jedi (1983)\n",
            "\n",
            "Star Wars: Episode IV - A New Hope (1977)\n",
            "-----------------------------------------\n",
            "- Star Wars: Episode IV - A New Hope (1977)\n",
            "- Star Wars: Episode VI - Return of the Jedi (1983)\n",
            "- L.A. Confidential (1997)\n",
            "- Star Wars: Episode V - The Empire Strikes Back (1980)\n",
            "- Shawshank Redemption, The (1994)\n",
            "\n",
            "Lion King, The (1994)\n",
            "---------------------\n",
            "- Lion King, The (1994)\n",
            "- Braveheart (1995)\n",
            "- Beauty and the Beast (1991)\n",
            "- Forrest Gump (1994)\n",
            "- Die Hard: With a Vengeance (1995)\n",
            "\n",
            "Terminator 2: Judgment Day (1991)\n",
            "---------------------------------\n",
            "- Terminator 2: Judgment Day (1991)\n",
            "- Braveheart (1995)\n",
            "- Star Wars: Episode VI - Return of the Jedi (1983)\n",
            "- Jurassic Park (1993)\n",
            "- Forrest Gump (1994)\n",
            "\n",
            "Godfather, The (1972)\n",
            "---------------------\n",
            "- Godfather, The (1972)\n",
            "- Rear Window (1954)\n",
            "- Godfather: Part II, The (1974)\n",
            "- Chinatown (1974)\n",
            "- Casablanca (1942)\n",
            "\n"
          ]
        }
      ]
    },
    {
      "cell_type": "markdown",
      "source": [
        "## **Conclusion:**\n",
        "\n",
        "- We have converted our user data which had ratings for movies to a self-supervised task of training an embedding vector, which is ultimately helping us in suggesting top 'k' similar movies for a particular.\n",
        "- We have used techniques of random walks and skipgram models to generate examples of pairs of similar nodes that help in node embedding.\n",
        "- We have used a graph neural network to solve a recommendation problem."
      ],
      "metadata": {
        "id": "PH_F_lLEUJAD"
      }
    },
    {
      "cell_type": "code",
      "source": [],
      "metadata": {
        "id": "IbBsqM98UGL7"
      },
      "execution_count": null,
      "outputs": []
    }
  ]
}